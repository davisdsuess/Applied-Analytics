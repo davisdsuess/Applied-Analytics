{
 "cells": [
  {
   "cell_type": "markdown",
   "id": "92fd1fb8",
   "metadata": {},
   "source": [
    "# Coding Block 2 - Evaluation Metrics"
   ]
  },
  {
   "cell_type": "markdown",
   "id": "c39695e0",
   "metadata": {},
   "source": [
    "### Load the packages"
   ]
  },
  {
   "cell_type": "code",
   "execution_count": 3,
   "id": "a2b0c94e",
   "metadata": {
    "_kg_hide-input": true,
    "execution": {
     "iopub.execute_input": "2021-09-20T20:03:00.442022Z",
     "iopub.status.busy": "2021-09-20T20:03:00.441258Z",
     "iopub.status.idle": "2021-09-20T20:03:01.852024Z",
     "shell.execute_reply": "2021-09-20T20:03:01.851352Z",
     "shell.execute_reply.started": "2021-09-20T19:54:12.026788Z"
    },
    "papermill": {
     "duration": 1.435807,
     "end_time": "2021-09-20T20:03:01.852223",
     "exception": false,
     "start_time": "2021-09-20T20:03:00.416416",
     "status": "completed"
    },
    "tags": []
   },
   "outputs": [
    {
     "data": {
      "text/plain": [
       "'\\n...\\n'"
      ]
     },
     "execution_count": 3,
     "metadata": {},
     "output_type": "execute_result"
    }
   ],
   "source": [
    "import numpy as np\n",
    "import pandas as pd\n",
    "import matplotlib.pyplot as plt\n",
    "from sklearn.ensemble import RandomForestClassifier\n",
    "from sklearn.model_selection import train_test_split\n",
    "from sklearn.metrics import accuracy_score\n",
    "'''\n",
    "...\n",
    "'''"
   ]
  },
  {
   "cell_type": "markdown",
   "id": "5aaae9e8",
   "metadata": {},
   "source": [
    "### Read the dataset "
   ]
  },
  {
   "cell_type": "code",
   "execution_count": 10,
   "id": "d1775d95",
   "metadata": {
    "_kg_hide-input": true,
    "execution": {
     "iopub.execute_input": "2021-09-20T20:03:01.895944Z",
     "iopub.status.busy": "2021-09-20T20:03:01.895175Z",
     "iopub.status.idle": "2021-09-20T20:03:05.794695Z",
     "shell.execute_reply": "2021-09-20T20:03:05.795244Z",
     "shell.execute_reply.started": "2021-09-20T19:54:12.050571Z"
    },
    "papermill": {
     "duration": 3.924865,
     "end_time": "2021-09-20T20:03:05.795452",
     "exception": false,
     "start_time": "2021-09-20T20:03:01.870587",
     "status": "completed"
    },
    "tags": []
   },
   "outputs": [],
   "source": [
    "df = pd.read_csv(\"../data/df_imputed_clean.csv\")"
   ]
  },
  {
   "cell_type": "code",
   "execution_count": 11,
   "id": "06d6f576",
   "metadata": {},
   "outputs": [
    {
     "name": "stdout",
     "output_type": "stream",
     "text": [
      "   Prediction\n",
      "0           1\n",
      "1           0\n",
      "2           1\n",
      "3           0\n",
      "4           0\n"
     ]
    }
   ],
   "source": [
    "import pickle\n",
    "import pandas as pd\n",
    "\n",
    "# Pfad zum Modell\n",
    "model_path = \"../05_Friday/autogluon_models/models/ExtraTreesGini/model.pkl\"\n",
    "\n",
    "# Modell laden\n",
    "with open(model_path, \"rb\") as file:\n",
    "    model = pickle.load(file)\n",
    "\n",
    "# Annahme: df ist dein DataFrame mit den Eingabedaten\n",
    "# Falls die Spalten angepasst werden müssen, sicherstellen, dass df die richtigen Features hat\n",
    "\n",
    "# Vorhersagen erstellen\n",
    "predictions = model.predict(df)\n",
    "\n",
    "# Falls du die Vorhersagen als DataFrame speichern willst:\n",
    "df_predictions = pd.DataFrame(predictions, columns=[\"Prediction\"])\n",
    "\n",
    "# Ergebnisse anzeigen\n",
    "print(df_predictions.head())\n"
   ]
  },
  {
   "cell_type": "code",
   "execution_count": 17,
   "id": "cb8a30a3",
   "metadata": {},
   "outputs": [
    {
     "name": "stdout",
     "output_type": "stream",
     "text": [
      "0    1.0\n",
      "1    0.0\n",
      "2    1.0\n",
      "3    0.0\n",
      "4    0.0\n",
      "Name: Outcome, dtype: float64\n"
     ]
    }
   ],
   "source": [
    "from autogluon.tabular import TabularPredictor\n",
    "\n",
    "# Pfad zum gespeicherten AutoGluon-Predictor\n",
    "predictor_path = \"../05_Friday/autogluon_models/\"  # Verzeichnis, nicht die pkl-Datei!\n",
    "\n",
    "# Predictor laden\n",
    "predictor = TabularPredictor.load(predictor_path)\n",
    "\n",
    "# Annahme: df ist dein DataFrame mit den Testdaten (ohne Label-Spalte)\n",
    "predictions = predictor.predict(df)\n",
    "\n",
    "# Ergebnisse anzeigen\n",
    "print(predictions.head())\n"
   ]
  },
  {
   "cell_type": "code",
   "execution_count": 19,
   "id": "36d4bcee",
   "metadata": {},
   "outputs": [
    {
     "name": "stdout",
     "output_type": "stream",
     "text": [
      "<class 'autogluon.tabular.learner.default_learner.DefaultLearner'>\n",
      "['__class__', '__delattr__', '__dict__', '__dir__', '__doc__', '__eq__', '__format__', '__ge__', '__getattribute__', '__gt__', '__hash__', '__init__', '__init_subclass__', '__le__', '__lt__', '__module__', '__ne__', '__new__', '__reduce__', '__reduce_ex__', '__repr__', '__setattr__', '__sizeof__', '__str__', '__subclasshook__', '__weakref__', '_adjust_threshold_if_necessary', '_apply_cleaner_transform', '_check_for_non_finite_values', '_eval_metric_was_str', '_fit', '_infer_problem_type', '_original_features', '_positive_class', '_post_X_rows', '_post_process_predict', '_post_process_predict_proba', '_pre_X_rows', '_python_version', '_remove_nan_label_rows', '_time_fit_preprocessing', '_time_fit_total', '_time_fit_training', '_time_limit', '_update_infer_limit', '_validate_class_labels', '_validate_fit_input', '_validate_groups', '_validate_sample_weight', '_verify_metric', 'adjust_threshold_if_necessary', 'bundle_weights', 'cache_data', 'calibrate_decision_threshold', 'class_labels', 'class_labels_transformed', 'class_weights', 'cleaner', 'create_contexts', 'distill', 'eval_metric', 'evaluate_predictions', 'extract_label', 'feature_generator', 'feature_generators', 'feature_metadata_in', 'features', 'fit', 'fit_transform_features', 'general_data_processing', 'get_feature_importance', 'get_info', 'get_inputs_to_stacker', 'get_pred_from_proba', 'groups', 'ignored_columns', 'infer_problem_type', 'is_fit', 'is_trainer_present', 'label', 'label_cleaner', 'leaderboard', 'learner_file_name', 'learner_info_json_name', 'learner_info_name', 'load', 'load_info', 'load_trainer', 'model_context', 'original_features', 'path', 'path_context_og', 'persist_trainer', 'positive_class', 'predict', 'predict_multi', 'predict_proba', 'predict_proba_multi', 'preprocess_1_batch_size', 'preprocess_1_time', 'problem_type', 'quantile_levels', 'random_state', 'refit_ensemble_full', 'reset_paths', 'sample_weight', 'save', 'save_info', 'save_path', 'save_trainer', 'score', 'score_debug', 'score_with_pred', 'score_with_pred_proba', 'set_contexts', 'set_predefined_weights', 'threshold', 'trainer', 'trainer_path', 'trainer_type', 'transform_features', 'transform_labels', 'validate_label', 'version', 'weight_evaluation']\n"
     ]
    }
   ],
   "source": [
    "import pickle\n",
    "\n",
    "# Pfad zum learner.pkl\n",
    "learner_path = \"../05_Friday/autogluon_models/learner.pkl\"\n",
    "\n",
    "# Datei öffnen und laden\n",
    "with open(learner_path, \"rb\") as file:\n",
    "    learner = pickle.load(file)\n",
    "\n",
    "# Objekt untersuchen\n",
    "print(type(learner))\n",
    "print(dir(learner))  # Zeigt verfügbare Methoden und Attribute\n"
   ]
  },
  {
   "cell_type": "markdown",
   "id": "ce5937d7",
   "metadata": {},
   "source": [
    "### ML Evaluation Metrics for Different Stakeholders\n",
    "First, take a little time and think about different priorities that stakeholders could have when evaluating a diabetes prediction model. What might clinical healthcare providers, health insurance companies, public health officials, or patients be interested in?\n",
    "What evaluation metrics are here more or less important?"
   ]
  },
  {
   "cell_type": "markdown",
   "id": "c6395ae5",
   "metadata": {},
   "source": []
  },
  {
   "cell_type": "markdown",
   "id": "18e7c935",
   "metadata": {},
   "source": [
    "### Choose two specific stakeholder perspectives for your predictive analytics task\n",
    "Each perspective should emphasize a different evaluation metric. Train two predictive models based on these metrics."
   ]
  },
  {
   "cell_type": "code",
   "execution_count": null,
   "id": "977fd8e1",
   "metadata": {},
   "outputs": [],
   "source": []
  },
  {
   "cell_type": "markdown",
   "id": "eb8898f6",
   "metadata": {
    "papermill": {
     "duration": 0.02043,
     "end_time": "2021-09-20T20:03:06.320402",
     "exception": false,
     "start_time": "2021-09-20T20:03:06.299972",
     "status": "completed"
    },
    "tags": []
   },
   "source": [
    "### Implement adjustable decision thresholds\n",
    "Assume that the stakeholders want a model for which they can tune the decision threshold of their evaluation metric based on their risk tolerance\n",
    "\n",
    "Tipp: <br>\n",
    "You can have the probabilities of your model given by: <br>\n",
    "    <i>y_prob_clinical = clinical_model.predict_proba(X_test)[:, 1]</i> <br>\n",
    "And check if the probability is above a specific threshold: <br>\n",
    "    <i>y_pred = (y_prob_clinical >= threshold).astype(int)</i> <br>\n",
    "Then have your evaluation metric of choice being calculated for this specific threshold."
   ]
  },
  {
   "cell_type": "code",
   "execution_count": null,
   "id": "ba8c2fe9",
   "metadata": {},
   "outputs": [],
   "source": []
  },
  {
   "cell_type": "markdown",
   "id": "e2f653f6",
   "metadata": {},
   "source": [
    "### Insight generation\n",
    "Go beyond a highly predictive model and produce some insights to your stakeholders based on your modeling results in the last days. The last cells of the  solution notebook for coding session 4 of session 3 (Wednesday) are one example on how to do this. "
   ]
  },
  {
   "cell_type": "code",
   "execution_count": null,
   "id": "05338b36",
   "metadata": {},
   "outputs": [],
   "source": []
  }
 ],
 "metadata": {
  "kernelspec": {
   "display_name": "aa_tuesday",
   "language": "python",
   "name": "python3"
  },
  "language_info": {
   "codemirror_mode": {
    "name": "ipython",
    "version": 3
   },
   "file_extension": ".py",
   "mimetype": "text/x-python",
   "name": "python",
   "nbconvert_exporter": "python",
   "pygments_lexer": "ipython3",
   "version": "3.9.21"
  },
  "papermill": {
   "default_parameters": {},
   "duration": 49.933279,
   "end_time": "2021-09-20T20:03:41.801824",
   "environment_variables": {},
   "exception": null,
   "input_path": "__notebook__.ipynb",
   "output_path": "__notebook__.ipynb",
   "parameters": {},
   "start_time": "2021-09-20T20:02:51.868545",
   "version": "2.3.3"
  }
 },
 "nbformat": 4,
 "nbformat_minor": 5
}
