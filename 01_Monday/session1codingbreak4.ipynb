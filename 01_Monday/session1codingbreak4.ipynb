{
 "cells": [
  {
   "cell_type": "markdown",
   "id": "d2f3dca4-0e1f-4e83-a273-00331c96dce8",
   "metadata": {},
   "source": [
    "Load all packages you need."
   ]
  },
  {
   "cell_type": "code",
   "execution_count": 1,
   "id": "1051e413-cf81-4d1f-b78e-7508f914dccc",
   "metadata": {},
   "outputs": [],
   "source": [
    "import pandas as pd"
   ]
  },
  {
   "cell_type": "markdown",
   "id": "4bbe9055-8868-4826-9d72-29ccaeb83e19",
   "metadata": {},
   "source": [
    "Read the data."
   ]
  },
  {
   "cell_type": "code",
   "execution_count": null,
   "id": "e5450820-7e0f-4617-965d-c251c0354599",
   "metadata": {},
   "outputs": [
    {
     "data": {
      "text/html": [
       "<div>\n",
       "<style scoped>\n",
       "    .dataframe tbody tr th:only-of-type {\n",
       "        vertical-align: middle;\n",
       "    }\n",
       "\n",
       "    .dataframe tbody tr th {\n",
       "        vertical-align: top;\n",
       "    }\n",
       "\n",
       "    .dataframe thead th {\n",
       "        text-align: right;\n",
       "    }\n",
       "</style>\n",
       "<table border=\"1\" class=\"dataframe\">\n",
       "  <thead>\n",
       "    <tr style=\"text-align: right;\">\n",
       "      <th></th>\n",
       "      <th>Pregnancies</th>\n",
       "      <th>Glucose</th>\n",
       "      <th>BloodPressure</th>\n",
       "      <th>SkinThickness</th>\n",
       "      <th>Insulin</th>\n",
       "      <th>BMI</th>\n",
       "      <th>DiabetesPedigreeFunction</th>\n",
       "      <th>Age</th>\n",
       "      <th>Outcome</th>\n",
       "    </tr>\n",
       "  </thead>\n",
       "  <tbody>\n",
       "    <tr>\n",
       "      <th>0</th>\n",
       "      <td>6</td>\n",
       "      <td>148</td>\n",
       "      <td>72</td>\n",
       "      <td>35</td>\n",
       "      <td>0</td>\n",
       "      <td>33.6</td>\n",
       "      <td>0.627</td>\n",
       "      <td>50</td>\n",
       "      <td>1</td>\n",
       "    </tr>\n",
       "    <tr>\n",
       "      <th>1</th>\n",
       "      <td>1</td>\n",
       "      <td>85</td>\n",
       "      <td>66</td>\n",
       "      <td>29</td>\n",
       "      <td>0</td>\n",
       "      <td>26.6</td>\n",
       "      <td>0.351</td>\n",
       "      <td>31</td>\n",
       "      <td>0</td>\n",
       "    </tr>\n",
       "    <tr>\n",
       "      <th>2</th>\n",
       "      <td>8</td>\n",
       "      <td>183</td>\n",
       "      <td>64</td>\n",
       "      <td>0</td>\n",
       "      <td>0</td>\n",
       "      <td>23.3</td>\n",
       "      <td>0.672</td>\n",
       "      <td>32</td>\n",
       "      <td>1</td>\n",
       "    </tr>\n",
       "    <tr>\n",
       "      <th>3</th>\n",
       "      <td>1</td>\n",
       "      <td>89</td>\n",
       "      <td>66</td>\n",
       "      <td>23</td>\n",
       "      <td>94</td>\n",
       "      <td>28.1</td>\n",
       "      <td>0.167</td>\n",
       "      <td>21</td>\n",
       "      <td>0</td>\n",
       "    </tr>\n",
       "    <tr>\n",
       "      <th>4</th>\n",
       "      <td>0</td>\n",
       "      <td>137</td>\n",
       "      <td>40</td>\n",
       "      <td>35</td>\n",
       "      <td>168</td>\n",
       "      <td>43.1</td>\n",
       "      <td>2.288</td>\n",
       "      <td>33</td>\n",
       "      <td>1</td>\n",
       "    </tr>\n",
       "  </tbody>\n",
       "</table>\n",
       "</div>"
      ],
      "text/plain": [
       "   Pregnancies  Glucose  BloodPressure  SkinThickness  Insulin   BMI  \\\n",
       "0            6      148             72             35        0  33.6   \n",
       "1            1       85             66             29        0  26.6   \n",
       "2            8      183             64              0        0  23.3   \n",
       "3            1       89             66             23       94  28.1   \n",
       "4            0      137             40             35      168  43.1   \n",
       "\n",
       "   DiabetesPedigreeFunction  Age  Outcome  \n",
       "0                     0.627   50        1  \n",
       "1                     0.351   31        0  \n",
       "2                     0.672   32        1  \n",
       "3                     0.167   21        0  \n",
       "4                     2.288   33        1  "
      ]
     },
     "execution_count": 2,
     "metadata": {},
     "output_type": "execute_result"
    }
   ],
   "source": [
    "df = pd.read_csv(\"/Users/davidsuss/Documents/GitHub/Applied-Analytics/data/diabetes.csv\")\n",
    "df.head()"
   ]
  },
  {
   "cell_type": "markdown",
   "id": "2086e112-8b13-4034-ae7b-ea37ad18c0cc",
   "metadata": {},
   "source": [
    "Let's deal with the missing data points in \"BloodPressure\". <br>\n",
    "First remove the outlier from the last coding break.<br>\n",
    "Create a copy of the outlier-filtered data frame and impute the missing values with the \"BloodPressure\" median value."
   ]
  },
  {
   "cell_type": "code",
   "execution_count": null,
   "id": "85b1fedb-c1a3-4e47-8398-0deb0d831737",
   "metadata": {},
   "outputs": [
    {
     "name": "stdout",
     "output_type": "stream",
     "text": [
      "754\n"
     ]
    }
   ],
   "source": [
    "import pandas as pd\n",
    "\n",
    "# Zuerst alle 0-Werte in \"BloodPressure\" mit dem Median ersetzen\n",
    "median_bp = df[\"BloodPressure\"].replace(0, pd.NA).median()\n",
    "df[\"BloodPressure\"] = df[\"BloodPressure\"].replace(0, median_bp)\n",
    "\n",
    "# Berechnung der Tukey's Fence Grenzen nach der Median-Imputation\n",
    "Q1 = df[\"BloodPressure\"].quantile(0.25)\n",
    "Q3 = df[\"BloodPressure\"].quantile(0.75)\n",
    "IQR = Q3 - Q1\n",
    "\n",
    "lower_bound_tukey = Q1 - 1.5 * IQR\n",
    "upper_bound_tukey = Q3 + 1.5 * IQR\n",
    "\n",
    "# Bereinigung: Entfernen der Outlier basierend auf Tukey's Fence\n",
    "df_cleaned = df[\n",
    "    (df[\"BloodPressure\"] >= lower_bound_tukey) & \n",
    "    (df[\"BloodPressure\"] <= upper_bound_tukey)\n",
    "].copy()\n",
    "\n",
    "print(df_cleaned.shape[0])"
   ]
  },
  {
   "cell_type": "markdown",
   "id": "822ae396-9ac9-4baa-aad1-b495eb459be9",
   "metadata": {},
   "source": [
    "Create a second copy of the outlier-filtered data frame. <br>\n",
    "Perform a hot-deck/distribution imputation. First, estimate the distribution parameters of \"BloodPressure\". Then, sample the values used for imputation."
   ]
  },
  {
   "cell_type": "code",
   "execution_count": 21,
   "id": "23834628-554f-46aa-b650-b569b54bcddf",
   "metadata": {},
   "outputs": [
    {
     "name": "stdout",
     "output_type": "stream",
     "text": [
      "   Pregnancies  Glucose  BloodPressure  SkinThickness  Insulin   BMI  \\\n",
      "0            6      148             72             35        0  33.6   \n",
      "1            1       85             66             29        0  26.6   \n",
      "2            8      183             64              0        0  23.3   \n",
      "3            1       89             66             23       94  28.1   \n",
      "4            0      137             40             35      168  43.1   \n",
      "\n",
      "   DiabetesPedigreeFunction  Age  Outcome  \n",
      "0                     0.627   50        1  \n",
      "1                     0.351   31        0  \n",
      "2                     0.672   32        1  \n",
      "3                     0.167   21        0  \n",
      "4                     2.288   33        1  \n",
      "754\n"
     ]
    }
   ],
   "source": [
    "import numpy as np\n",
    "\n",
    "# Erstelle eine zweite Kopie des bereinigten DataFrames\n",
    "df_hotdeck = df_cleaned.copy()\n",
    "\n",
    "# Schätze die Verteilungsparameter (Mittelwert und Standardabweichung) von \"BloodPressure\"\n",
    "mean_bp = df_hotdeck[\"BloodPressure\"].mean()\n",
    "std_bp = df_hotdeck[\"BloodPressure\"].std()\n",
    "\n",
    "# Identifiziere die Zeilen, in denen \"BloodPressure\" gleich 0 ist\n",
    "zero_bp_indices = df_hotdeck[\"BloodPressure\"] == 0\n",
    "\n",
    "# Ziehe Zufallswerte aus einer Normalverteilung basierend auf den geschätzten Parametern\n",
    "imputed_values = np.random.normal(loc=mean_bp, scale=std_bp, size=zero_bp_indices.sum())\n",
    "\n",
    "# Weise die imputierten Werte den 0-Positionen zu\n",
    "df_hotdeck.loc[zero_bp_indices, \"BloodPressure\"] = imputed_values\n",
    "\n",
    "print(df_hotdeck.head())\n",
    "print(df_hotdeck.shape[0])"
   ]
  },
  {
   "cell_type": "markdown",
   "id": "ef5992a8-1171-45f7-aad9-1199557dca41",
   "metadata": {},
   "source": [
    "Create a third copy of the outlier-filtered data frame. <br>\n",
    "Perform a regression-based imputation. First, choose 3 variables that are correlated with \"BloodPressure\" (Hint, create a correlation matrix or have a look at the \"Associations\"-Button in sweetviz).<br>\n",
    "Second, fit a linear regression model with those three variables as predictors. Let's ignore for the moment that the other variables might also include outlier and missing data.<br>\n",
    "Now, use the regression model to estimate the imputed value for each missing data point."
   ]
  },
  {
   "cell_type": "code",
   "execution_count": null,
   "id": "5602687e-31ab-4578-86b0-bef6d3910576",
   "metadata": {},
   "outputs": [],
   "source": []
  },
  {
   "cell_type": "markdown",
   "id": "a91ba9cf-d2a7-4c88-bed5-8b0af8db3e5b",
   "metadata": {},
   "source": [
    "Now plot the original data next to the imputed data. Inspect the differences!"
   ]
  },
  {
   "cell_type": "code",
   "execution_count": null,
   "id": "7458bfed-b20d-45e9-876f-0d45b1928034",
   "metadata": {},
   "outputs": [],
   "source": []
  }
 ],
 "metadata": {
  "kernelspec": {
   "display_name": "Python 3",
   "language": "python",
   "name": "python3"
  },
  "language_info": {
   "codemirror_mode": {
    "name": "ipython",
    "version": 3
   },
   "file_extension": ".py",
   "mimetype": "text/x-python",
   "name": "python",
   "nbconvert_exporter": "python",
   "pygments_lexer": "ipython3",
   "version": "3.12.7"
  }
 },
 "nbformat": 4,
 "nbformat_minor": 5
}
