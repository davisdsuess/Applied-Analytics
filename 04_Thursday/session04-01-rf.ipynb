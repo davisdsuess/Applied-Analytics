{
 "cells": [
  {
   "cell_type": "markdown",
   "id": "92fd1fb8",
   "metadata": {},
   "source": [
    "# Coding Block 1 - Random Forests (and XGBoost)"
   ]
  },
  {
   "cell_type": "markdown",
   "id": "c39695e0",
   "metadata": {},
   "source": [
    "### Load the packages"
   ]
  },
  {
   "cell_type": "code",
   "execution_count": 1,
   "id": "a2b0c94e",
   "metadata": {
    "_kg_hide-input": true,
    "execution": {
     "iopub.execute_input": "2021-09-20T20:03:00.442022Z",
     "iopub.status.busy": "2021-09-20T20:03:00.441258Z",
     "iopub.status.idle": "2021-09-20T20:03:01.852024Z",
     "shell.execute_reply": "2021-09-20T20:03:01.851352Z",
     "shell.execute_reply.started": "2021-09-20T19:54:12.026788Z"
    },
    "papermill": {
     "duration": 1.435807,
     "end_time": "2021-09-20T20:03:01.852223",
     "exception": false,
     "start_time": "2021-09-20T20:03:00.416416",
     "status": "completed"
    },
    "tags": []
   },
   "outputs": [
    {
     "data": {
      "text/plain": [
       "'\\n...\\n'"
      ]
     },
     "execution_count": 1,
     "metadata": {},
     "output_type": "execute_result"
    }
   ],
   "source": [
    "import numpy as np\n",
    "import pandas as pd\n",
    "import matplotlib.pyplot as plt\n",
    "from sklearn.ensemble import RandomForestClassifier\n",
    "from sklearn.model_selection import train_test_split\n",
    "from sklearn.metrics import accuracy_score\n",
    "'''\n",
    "...\n",
    "'''"
   ]
  },
  {
   "cell_type": "markdown",
   "id": "5aaae9e8",
   "metadata": {},
   "source": [
    "### Read the dataset \n",
    "You can also compare processed and non-processed data."
   ]
  },
  {
   "cell_type": "code",
   "execution_count": 4,
   "id": "d1775d95",
   "metadata": {
    "_kg_hide-input": true,
    "execution": {
     "iopub.execute_input": "2021-09-20T20:03:01.895944Z",
     "iopub.status.busy": "2021-09-20T20:03:01.895175Z",
     "iopub.status.idle": "2021-09-20T20:03:05.794695Z",
     "shell.execute_reply": "2021-09-20T20:03:05.795244Z",
     "shell.execute_reply.started": "2021-09-20T19:54:12.050571Z"
    },
    "papermill": {
     "duration": 3.924865,
     "end_time": "2021-09-20T20:03:05.795452",
     "exception": false,
     "start_time": "2021-09-20T20:03:01.870587",
     "status": "completed"
    },
    "tags": []
   },
   "outputs": [],
   "source": [
    "df = pd.read_csv('../data/df_imputed_clean.csv')"
   ]
  },
  {
   "cell_type": "markdown",
   "id": "ce5937d7",
   "metadata": {},
   "source": [
    "### Split the data and train a Random Forest model"
   ]
  },
  {
   "cell_type": "code",
   "execution_count": 25,
   "id": "878256be",
   "metadata": {},
   "outputs": [
    {
     "name": "stdout",
     "output_type": "stream",
     "text": [
      "Accuracy: 0.83\n",
      "Classification Report:\n",
      "               precision    recall  f1-score   support\n",
      "\n",
      "         0.0       0.88      0.86      0.87        97\n",
      "         1.0       0.73      0.78      0.75        49\n",
      "\n",
      "    accuracy                           0.83       146\n",
      "   macro avg       0.81      0.82      0.81       146\n",
      "weighted avg       0.83      0.83      0.83       146\n",
      "\n"
     ]
    }
   ],
   "source": [
    "import pandas as pd\n",
    "import numpy as np\n",
    "from sklearn.model_selection import train_test_split\n",
    "from sklearn.ensemble import RandomForestClassifier\n",
    "from sklearn.metrics import accuracy_score, classification_report\n",
    "\n",
    "# Daten laden\n",
    "file_path = \"../data/df_imputed_clean.csv\"\n",
    "df = pd.read_csv(file_path)\n",
    "\n",
    "# Unnötige Spalte entfernen\n",
    "df = df.drop(columns=[\"Unnamed: 0\"])\n",
    "\n",
    "# Features und Zielvariable definieren\n",
    "X = df.drop(columns=[\"Outcome\"])\n",
    "y = df[\"Outcome\"]\n",
    "\n",
    "# Daten in Trainings- und Testsets aufteilen (80% Training, 20% Test)\n",
    "X_train, X_test, y_train, y_test = train_test_split(X, y, test_size=0.2, random_state=42, stratify=y)\n",
    "\n",
    "# Random Forest Modell initialisieren und trainieren\n",
    "rf_model = RandomForestClassifier(n_estimators=100, random_state=42)\n",
    "rf_model.fit(X_train, y_train)\n",
    "\n",
    "# Vorhersagen treffen\n",
    "y_pred = rf_model.predict(X_test)\n",
    "\n",
    "# Modellbewertung\n",
    "accuracy = accuracy_score(y_test, y_pred)\n",
    "classification_rep = classification_report(y_test, y_pred)\n",
    "\n",
    "print(f\"Accuracy: {accuracy:.2f}\")\n",
    "print(\"Classification Report:\\n\", classification_rep)\n"
   ]
  },
  {
   "cell_type": "code",
   "execution_count": 24,
   "id": "ef059d1e",
   "metadata": {},
   "outputs": [
    {
     "name": "stdout",
     "output_type": "stream",
     "text": [
      "Fitting 5 folds for each of 162 candidates, totalling 810 fits\n",
      "Optimized Random Forest Accuracy: 0.77\n",
      "Optimized Classification Report:\n",
      "               precision    recall  f1-score   support\n",
      "\n",
      "         0.0       0.81      0.86      0.83        97\n",
      "         1.0       0.68      0.61      0.65        49\n",
      "\n",
      "    accuracy                           0.77       146\n",
      "   macro avg       0.75      0.73      0.74       146\n",
      "weighted avg       0.77      0.77      0.77       146\n",
      "\n",
      "Optimized Random Forest Cross-Validation Accuracy: 0.75\n"
     ]
    },
    {
     "name": "stderr",
     "output_type": "stream",
     "text": [
      "/var/folders/5w/h4z5hq9j70s0kq9njbq1fktc0000gn/T/ipykernel_33802/3531931986.py:58: FutureWarning: \n",
      "\n",
      "Passing `palette` without assigning `hue` is deprecated and will be removed in v0.14.0. Assign the `y` variable to `hue` and set `legend=False` for the same effect.\n",
      "\n",
      "  sns.barplot(x=feature_importances, y=feature_importances.index, palette=\"viridis\")\n"
     ]
    },
    {
     "data": {
      "image/png": "[encoded data removed]",
      "text/plain": [
       "<Figure size 800x500 with 1 Axes>"
      ]
     },
     "metadata": {},
     "output_type": "display_data"
    }
   ],
   "source": [
    "import pandas as pd\n",
    "import numpy as np\n",
    "from sklearn.model_selection import train_test_split, cross_val_score\n",
    "from sklearn.ensemble import RandomForestClassifier\n",
    "from sklearn.metrics import accuracy_score, classification_report\n",
    "from sklearn.model_selection import GridSearchCV\n",
    "import matplotlib.pyplot as plt\n",
    "import seaborn as sns\n",
    "\n",
    "# Daten laden\n",
    "file_path = \"../data/df_imputed_clean.csv\"\n",
    "df = pd.read_csv(file_path)\n",
    "\n",
    "# Unnötige Spalte entfernen\n",
    "df = df.drop(columns=[\"Unnamed: 0\"])\n",
    "\n",
    "# Features und Zielvariable definieren\n",
    "X = df.drop(columns=[\"Outcome\", \"Outlier\", \"Multivariate_Outlier\", \"Mahalanobis_Distance\"])\n",
    "y = df[\"Outcome\"]\n",
    "\n",
    "# Daten in Trainings- und Testsets aufteilen (80% Training, 20% Test)\n",
    "X_train, X_test, y_train, y_test = train_test_split(X, y, test_size=0.2, random_state=42, stratify=y)\n",
    "\n",
    "# Hyperparameter-Tuning für Random Forest\n",
    "param_grid = {\n",
    "    'n_estimators': [100, 200, 300],  \n",
    "    'max_depth': [None, 10, 20],  \n",
    "    'min_samples_split': [2, 5, 10],  \n",
    "    'min_samples_leaf': [1, 2, 4],  \n",
    "    'bootstrap': [True, False]  \n",
    "}\n",
    "\n",
    "rf = RandomForestClassifier(random_state=42)\n",
    "grid_search = GridSearchCV(rf, param_grid, cv=5, scoring='accuracy', n_jobs=-1, verbose=1)\n",
    "grid_search.fit(X_train, y_train)\n",
    "\n",
    "# Bestes Modell speichern\n",
    "best_rf = grid_search.best_estimator_\n",
    "\n",
    "# Vorhersagen treffen\n",
    "y_pred = best_rf.predict(X_test)\n",
    "\n",
    "# Modellbewertung\n",
    "accuracy = accuracy_score(y_test, y_pred)\n",
    "classification_rep = classification_report(y_test, y_pred)\n",
    "\n",
    "print(f\"Optimized Random Forest Accuracy: {accuracy:.2f}\")\n",
    "print(\"Optimized Classification Report:\\n\", classification_rep)\n",
    "\n",
    "# Cross-Validation Score berechnen\n",
    "rf_cv_score = cross_val_score(best_rf, X_train, y_train, cv=5, scoring=\"accuracy\", n_jobs=-1)\n",
    "print(f\"Optimized Random Forest Cross-Validation Accuracy: {rf_cv_score.mean():.2f}\")\n",
    "\n",
    "# Feature Importance visualisieren\n",
    "feature_importances = pd.Series(best_rf.feature_importances_, index=X.columns).sort_values(ascending=False)\n",
    "\n",
    "plt.figure(figsize=(8, 5))\n",
    "sns.barplot(x=feature_importances, y=feature_importances.index, palette=\"viridis\")\n",
    "plt.xlabel(\"Feature Importance Score\")\n",
    "plt.ylabel(\"Features\")\n",
    "plt.title(\"Feature Importances from Optimized Random Forest\")\n",
    "plt.show()\n"
   ]
  },
  {
   "cell_type": "markdown",
   "id": "18e7c935",
   "metadata": {},
   "source": [
    "### Evaluate the prediction models using a classification report"
   ]
  },
  {
   "cell_type": "code",
   "execution_count": 8,
   "id": "977fd8e1",
   "metadata": {},
   "outputs": [
    {
     "name": "stdout",
     "output_type": "stream",
     "text": [
      "Accuracy: 0.83\n",
      "Classification Report:\n",
      "               precision    recall  f1-score   support\n",
      "\n",
      "         0.0       0.88      0.86      0.87        97\n",
      "         1.0       0.73      0.78      0.75        49\n",
      "\n",
      "    accuracy                           0.83       146\n",
      "   macro avg       0.81      0.82      0.81       146\n",
      "weighted avg       0.83      0.83      0.83       146\n",
      "\n"
     ]
    },
    {
     "data": {
      "image/png": "[encoded data removed]",
      "text/plain": [
       "<Figure size 600x500 with 2 Axes>"
      ]
     },
     "metadata": {},
     "output_type": "display_data"
    }
   ],
   "source": [
    "import matplotlib.pyplot as plt\n",
    "import seaborn as sns\n",
    "from sklearn.metrics import classification_report, accuracy_score, confusion_matrix\n",
    "\n",
    "# Vorhersagen auf den Testdaten\n",
    "y_pred = rf_model.predict(X_test)\n",
    "\n",
    "# Modellbewertung\n",
    "accuracy = accuracy_score(y_test, y_pred)\n",
    "classification_rep = classification_report(y_test, y_pred)\n",
    "\n",
    "# Ergebnisse ausgeben\n",
    "print(f\"Accuracy: {accuracy:.2f}\")\n",
    "print(\"Classification Report:\\n\", classification_rep)\n",
    "\n",
    "# Confusion Matrix berechnen\n",
    "conf_matrix = confusion_matrix(y_test, y_pred)\n",
    "\n",
    "# Visualisierung der Confusion Matrix\n",
    "plt.figure(figsize=(6, 5))\n",
    "sns.heatmap(conf_matrix, annot=True, fmt=\"d\", cmap=\"Blues\", xticklabels=[\"No Diabetes\", \"Diabetes\"], yticklabels=[\"No Diabetes\", \"Diabetes\"])\n",
    "plt.xlabel(\"Predicted Label\")\n",
    "plt.ylabel(\"True Label\")\n",
    "plt.title(\"Confusion Matrix\")\n",
    "plt.show()\n"
   ]
  },
  {
   "cell_type": "markdown",
   "id": "eb8898f6",
   "metadata": {
    "papermill": {
     "duration": 0.02043,
     "end_time": "2021-09-20T20:03:06.320402",
     "exception": false,
     "start_time": "2021-09-20T20:03:06.299972",
     "status": "completed"
    },
    "tags": []
   },
   "source": [
    "### Print the feature importances of the random forest"
   ]
  },
  {
   "cell_type": "code",
   "execution_count": 9,
   "id": "ba8c2fe9",
   "metadata": {},
   "outputs": [
    {
     "name": "stdout",
     "output_type": "stream",
     "text": [
      "Feature Importances:\n",
      " Glucose                     0.200609\n",
      "Mahalanobis_Distance        0.192960\n",
      "Insulin                     0.131571\n",
      "BMI                         0.104701\n",
      "Age                         0.094169\n",
      "DiabetesPedigreeFunction    0.090841\n",
      "SkinThickness               0.075419\n",
      "BloodPressure               0.055414\n",
      "Pregnancies                 0.054034\n",
      "Outlier                     0.000282\n",
      "Multivariate_Outlier        0.000000\n",
      "dtype: float64\n"
     ]
    },
    {
     "name": "stderr",
     "output_type": "stream",
     "text": [
      "/var/folders/5w/h4z5hq9j70s0kq9njbq1fktc0000gn/T/ipykernel_33802/3825097273.py:16: FutureWarning: \n",
      "\n",
      "Passing `palette` without assigning `hue` is deprecated and will be removed in v0.14.0. Assign the `y` variable to `hue` and set `legend=False` for the same effect.\n",
      "\n",
      "  sns.barplot(x=feature_importances, y=feature_importances.index, palette=\"viridis\")\n"
     ]
    },
    {
     "data": {
      "image/png": "[encoded data removed]",
      "text/plain": [
       "<Figure size 800x500 with 1 Axes>"
      ]
     },
     "metadata": {},
     "output_type": "display_data"
    }
   ],
   "source": [
    "import pandas as pd\n",
    "import matplotlib.pyplot as plt\n",
    "import seaborn as sns\n",
    "\n",
    "# Feature Importances extrahieren\n",
    "feature_importances = pd.Series(rf_model.feature_importances_, index=X.columns)\n",
    "\n",
    "# Sortieren nach Wichtigkeit\n",
    "feature_importances = feature_importances.sort_values(ascending=False)\n",
    "\n",
    "# Ausgabe der Feature-Wichtigkeiten\n",
    "print(\"Feature Importances:\\n\", feature_importances)\n",
    "\n",
    "# Visualisierung der Feature Importances\n",
    "plt.figure(figsize=(8, 5))\n",
    "sns.barplot(x=feature_importances, y=feature_importances.index, palette=\"viridis\")\n",
    "plt.xlabel(\"Feature Importance Score\")\n",
    "plt.ylabel(\"Features\")\n",
    "plt.title(\"Feature Importances from Random Forest\")\n",
    "plt.show()\n"
   ]
  },
  {
   "cell_type": "markdown",
   "id": "e2f653f6",
   "metadata": {},
   "source": [
    "### Extra: Also train a XGBoost model and compare the results."
   ]
  },
  {
   "cell_type": "code",
   "execution_count": 11,
   "id": "05338b36",
   "metadata": {},
   "outputs": [
    {
     "name": "stdout",
     "output_type": "stream",
     "text": [
      "XGBoost Accuracy: 0.75\n",
      "XGBoost Classification Report:\n",
      "               precision    recall  f1-score   support\n",
      "\n",
      "         0.0       0.81      0.80      0.81        97\n",
      "         1.0       0.62      0.63      0.63        49\n",
      "\n",
      "    accuracy                           0.75       146\n",
      "   macro avg       0.72      0.72      0.72       146\n",
      "weighted avg       0.75      0.75      0.75       146\n",
      "\n",
      "Random Forest Accuracy: 0.83\n",
      "Random Forest Classification Report:\n",
      "               precision    recall  f1-score   support\n",
      "\n",
      "         0.0       0.88      0.86      0.87        97\n",
      "         1.0       0.73      0.78      0.75        49\n",
      "\n",
      "    accuracy                           0.83       146\n",
      "   macro avg       0.81      0.82      0.81       146\n",
      "weighted avg       0.83      0.83      0.83       146\n",
      "\n"
     ]
    },
    {
     "name": "stderr",
     "output_type": "stream",
     "text": [
      "/Applications/anaconda3/envs/aa_tuesday/lib/python3.9/site-packages/xgboost/core.py:158: UserWarning: [11:04:45] WARNING: /var/folders/k1/30mswbxs7r1g6zwn8y4fyt500000gp/T/abs_d9k8pmaj4_/croot/xgboost-split_1724073758172/work/src/learner.cc:740: \n",
      "Parameters: { \"use_label_encoder\" } are not used.\n",
      "\n",
      "  warnings.warn(smsg, UserWarning)\n"
     ]
    }
   ],
   "source": [
    "import xgboost as xgb\n",
    "from sklearn.metrics import classification_report, accuracy_score\n",
    "\n",
    "# XGBoost Modell initialisieren und trainieren\n",
    "xgb_model = xgb.XGBClassifier(n_estimators=100, random_state=42, use_label_encoder=False, eval_metric=\"logloss\")\n",
    "xgb_model.fit(X_train, y_train)\n",
    "\n",
    "# Vorhersagen mit XGBoost\n",
    "y_pred_xgb = xgb_model.predict(X_test)\n",
    "\n",
    "# Modellbewertung für XGBoost\n",
    "accuracy_xgb = accuracy_score(y_test, y_pred_xgb)\n",
    "classification_rep_xgb = classification_report(y_test, y_pred_xgb)\n",
    "\n",
    "print(f\"XGBoost Accuracy: {accuracy_xgb:.2f}\")\n",
    "print(\"XGBoost Classification Report:\\n\", classification_rep_xgb)\n",
    "\n",
    "# Vergleich mit Random Forest\n",
    "print(f\"Random Forest Accuracy: {accuracy:.2f}\")\n",
    "print(\"Random Forest Classification Report:\\n\", classification_rep)\n"
   ]
  },
  {
   "cell_type": "code",
   "execution_count": 17,
   "id": "1fb63fe3",
   "metadata": {},
   "outputs": [
    {
     "name": "stdout",
     "output_type": "stream",
     "text": [
      "Random Forest Cross-Validation Accuracy: 0.76\n"
     ]
    }
   ],
   "source": [
    "from sklearn.model_selection import cross_val_score\n",
    "import xgboost as xgb\n",
    "\n",
    "# Optimiertes XGBoost Modell mit manuell gesetzten Hyperparametern\n",
    "best_xgb = xgb.XGBClassifier(\n",
    "    n_estimators=200,  # Optimale Anzahl von Bäumen\n",
    "    learning_rate=0.1,  # Optimaler Lernrate-Wert\n",
    "    max_depth=5,  # Baumtiefe\n",
    "    subsample=0.8,  # Anteil der Trainingsdaten pro Baum\n",
    "    colsample_bytree=0.8,  # Anteil der Features pro Baum\n",
    "    random_state=42,\n",
    "    eval_metric=\"logloss\"\n",
    ")\n",
    "\n",
    "# Training des optimierten XGBoost Modells\n",
    "best_xgb.fit(X_train, y_train)\n",
    "\n",
    "# Cross-Validation für Random Forest\n",
    "rf_cv_score = cross_val_score(rf_model, X_train, y_train, cv=5, scoring=\"accuracy\", n_jobs=-1)\n",
    "\n",
    "# Ergebnisse ausgeben\n",
    "print(f\"Random Forest Cross-Validation Accuracy: {rf_cv_score.mean():.2f}\")\n"
   ]
  },
  {
   "cell_type": "code",
   "execution_count": 37,
   "id": "f77a2305",
   "metadata": {},
   "outputs": [
    {
     "name": "stdout",
     "output_type": "stream",
     "text": [
      "Stacking Model Accuracy: 0.83\n",
      "Classification Report:\n",
      "               precision    recall  f1-score   support\n",
      "\n",
      "         0.0       0.85      0.90      0.87        97\n",
      "         1.0       0.77      0.69      0.73        49\n",
      "\n",
      "    accuracy                           0.83       146\n",
      "   macro avg       0.81      0.80      0.80       146\n",
      "weighted avg       0.83      0.83      0.83       146\n",
      "\n"
     ]
    }
   ],
   "source": [
    "import pandas as pd\n",
    "import numpy as np\n",
    "from sklearn.model_selection import train_test_split\n",
    "from sklearn.preprocessing import StandardScaler, PolynomialFeatures\n",
    "from sklearn.impute import SimpleImputer\n",
    "from sklearn.decomposition import PCA\n",
    "from sklearn.ensemble import RandomForestClassifier, GradientBoostingClassifier, StackingClassifier\n",
    "from sklearn.linear_model import LogisticRegression\n",
    "from sklearn.svm import SVC\n",
    "from sklearn.neighbors import KNeighborsClassifier\n",
    "from sklearn.metrics import accuracy_score, classification_report\n",
    "from sklearn.feature_selection import RFE\n",
    "\n",
    "# Daten laden\n",
    "file_path = \"../data/df_imputed_clean.csv\"\n",
    "df = pd.read_csv(file_path)\n",
    "\n",
    "# Unnötige Spalte entfernen\n",
    "df = df.drop(columns=[\"Unnamed: 0\"])\n",
    "\n",
    "# Features und Zielvariable definieren\n",
    "X = df.drop(columns=[\"Outcome\"])\n",
    "y = df[\"Outcome\"]\n",
    "\n",
    "# Fehlende Werte durch den Median ersetzen\n",
    "imputer = SimpleImputer(strategy=\"median\")\n",
    "X = imputer.fit_transform(X)\n",
    "\n",
    "# Feature Selection: Recursive Feature Elimination (RFE) mit Random Forest\n",
    "rf_selector = RandomForestClassifier(n_estimators=100, random_state=42)\n",
    "rfe = RFE(estimator=rf_selector, n_features_to_select=6)  # Behalte die Top 6 Features\n",
    "X = rfe.fit_transform(X, y)\n",
    "\n",
    "# Feature Engineering: Polynomial Features (Interaktionen zwischen Features)\n",
    "poly = PolynomialFeatures(degree=2, interaction_only=True)\n",
    "X = poly.fit_transform(X)\n",
    "\n",
    "# Daten in Trainings- und Testsets aufteilen (80% Training, 20% Test)\n",
    "X_train, X_test, y_train, y_test = train_test_split(X, y, test_size=0.2, random_state=42, stratify=y)\n",
    "\n",
    "# Daten normalisieren (StandardScaler für bessere Performance von SVC und KNN)\n",
    "scaler = StandardScaler()\n",
    "X_train = scaler.fit_transform(X_train)\n",
    "X_test = scaler.transform(X_test)\n",
    "\n",
    "# Dimensionalitätsreduktion (PCA)\n",
    "pca = PCA(n_components=10)  # Reduziere auf 10 Hauptkomponenten\n",
    "X_train = pca.fit_transform(X_train)\n",
    "X_test = pca.transform(X_test)\n",
    "\n",
    "# Basismodelle definieren (4 Modelle)\n",
    "base_models = [\n",
    "    ('rf', RandomForestClassifier(n_estimators=100, random_state=42)),\n",
    "    ('gb', GradientBoostingClassifier(n_estimators=100, random_state=42)),\n",
    "    ('svc', SVC(probability=True, random_state=42)),  # Support Vector Classifier\n",
    "    ('knn', KNeighborsClassifier(n_neighbors=5))  # K-Nearest Neighbors\n",
    "]\n",
    "\n",
    "# Meta-Modell (Final Model)\n",
    "meta_model = LogisticRegression()\n",
    "\n",
    "# Stacking Classifier erstellen\n",
    "stacking_model = StackingClassifier(estimators=base_models, final_estimator=meta_model, cv=5)\n",
    "\n",
    "# Stacking-Modell trainieren\n",
    "stacking_model.fit(X_train, y_train)\n",
    "\n",
    "# Vorhersagen treffen\n",
    "y_pred = stacking_model.predict(X_test)\n",
    "\n",
    "# Modellbewertung\n",
    "accuracy = accuracy_score(y_test, y_pred)\n",
    "classification_rep = classification_report(y_test, y_pred)\n",
    "\n",
    "print(f\"Stacking Model Accuracy: {accuracy:.2f}\")\n",
    "print(\"Classification Report:\\n\", classification_rep)\n"
   ]
  },
  {
   "cell_type": "code",
   "execution_count": 34,
   "id": "20b8a026",
   "metadata": {},
   "outputs": [
    {
     "name": "stdout",
     "output_type": "stream",
     "text": [
      "Stacking Model Accuracy: 0.79\n",
      "Classification Report:\n",
      "               precision    recall  f1-score   support\n",
      "\n",
      "         0.0       0.82      0.87      0.84        97\n",
      "         1.0       0.70      0.63      0.67        49\n",
      "\n",
      "    accuracy                           0.79       146\n",
      "   macro avg       0.76      0.75      0.76       146\n",
      "weighted avg       0.78      0.79      0.78       146\n",
      "\n"
     ]
    }
   ],
   "source": [
    "import pandas as pd\n",
    "import numpy as np\n",
    "from sklearn.model_selection import train_test_split\n",
    "from sklearn.preprocessing import MinMaxScaler, PolynomialFeatures\n",
    "from sklearn.decomposition import PCA\n",
    "from sklearn.ensemble import RandomForestClassifier, GradientBoostingClassifier, StackingClassifier\n",
    "from sklearn.linear_model import LogisticRegression\n",
    "from sklearn.svm import SVC\n",
    "from sklearn.neighbors import KNeighborsClassifier\n",
    "from sklearn.metrics import accuracy_score, classification_report\n",
    "from sklearn.feature_selection import RFE\n",
    "\n",
    "# Daten laden\n",
    "file_path = \"../data/df_imputed_clean.csv\"\n",
    "df = pd.read_csv(file_path)\n",
    "\n",
    "# Unnötige Spalte entfernen\n",
    "df = df.drop(columns=[\"Unnamed: 0\"])\n",
    "\n",
    "# Features und Zielvariable definieren\n",
    "X = df.drop(columns=[\"Outcome\"])\n",
    "y = df[\"Outcome\"]\n",
    "\n",
    "# Feature Selection: Recursive Feature Elimination (RFE) mit Random Forest\n",
    "rf_selector = RandomForestClassifier(n_estimators=100, random_state=42)\n",
    "rfe = RFE(estimator=rf_selector, n_features_to_select=6)  # Behalte die Top 6 Features\n",
    "X = rfe.fit_transform(X, y)\n",
    "\n",
    "# Feature Engineering: Polynomial Features (Interaktionen zwischen Features)\n",
    "poly = PolynomialFeatures(degree=2, interaction_only=True)\n",
    "X = poly.fit_transform(X)\n",
    "\n",
    "# Daten in Trainings- und Testsets aufteilen (80% Training, 20% Test)\n",
    "X_train, X_test, y_train, y_test = train_test_split(X, y, test_size=0.2, random_state=42, stratify=y)\n",
    "\n",
    "# Daten normalisieren mit MinMaxScaler (Wertebereich 0-1)\n",
    "scaler = MinMaxScaler()\n",
    "X_train = scaler.fit_transform(X_train)\n",
    "X_test = scaler.transform(X_test)\n",
    "\n",
    "# Dimensionalitätsreduktion (PCA)\n",
    "pca = PCA(n_components=10)  # Reduziere auf 10 Hauptkomponenten\n",
    "X_train = pca.fit_transform(X_train)\n",
    "X_test = pca.transform(X_test)\n",
    "\n",
    "# Basismodelle definieren (4 Modelle)\n",
    "base_models = [\n",
    "    ('rf', RandomForestClassifier(n_estimators=100, random_state=42)),\n",
    "    ('gb', GradientBoostingClassifier(n_estimators=100, random_state=42)),\n",
    "    ('svc', SVC(probability=True, random_state=42)),  # Support Vector Classifier\n",
    "    ('knn', KNeighborsClassifier(n_neighbors=5))  # K-Nearest Neighbors\n",
    "]\n",
    "\n",
    "# Meta-Modell (Final Model)\n",
    "meta_model = LogisticRegression()\n",
    "\n",
    "# Stacking Classifier erstellen\n",
    "stacking_model = StackingClassifier(estimators=base_models, final_estimator=meta_model, cv=5)\n",
    "\n",
    "# Stacking-Modell trainieren\n",
    "stacking_model.fit(X_train, y_train)\n",
    "\n",
    "# Vorhersagen treffen\n",
    "y_pred = stacking_model.predict(X_test)\n",
    "\n",
    "# Modellbewertung\n",
    "accuracy = accuracy_score(y_test, y_pred)\n",
    "classification_rep = classification_report(y_test, y_pred)\n",
    "\n",
    "print(f\"Stacking Model Accuracy: {accuracy:.2f}\")\n",
    "print(\"Classification Report:\\n\", classification_rep)\n"
   ]
  }
 ],
 "metadata": {
  "kernelspec": {
   "display_name": "aa_tuesday",
   "language": "python",
   "name": "python3"
  },
  "language_info": {
   "codemirror_mode": {
    "name": "ipython",
    "version": 3
   },
   "file_extension": ".py",
   "mimetype": "text/x-python",
   "name": "python",
   "nbconvert_exporter": "python",
   "pygments_lexer": "ipython3",
   "version": "3.9.21"
  },
  "papermill": {
   "default_parameters": {},
   "duration": 49.933279,
   "end_time": "2021-09-20T20:03:41.801824",
   "environment_variables": {},
   "exception": null,
   "input_path": "__notebook__.ipynb",
   "output_path": "__notebook__.ipynb",
   "parameters": {},
   "start_time": "2021-09-20T20:02:51.868545",
   "version": "2.3.3"
  }
 },
 "nbformat": 4,
 "nbformat_minor": 5
}
