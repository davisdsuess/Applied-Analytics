{
 "cells": [
  {
   "cell_type": "markdown",
   "id": "92fd1fb8",
   "metadata": {},
   "source": [
    "# Coding Block 1 - Random Forests (and XGBoost)"
   ]
  },
  {
   "cell_type": "markdown",
   "id": "c39695e0",
   "metadata": {},
   "source": [
    "### Load the packages"
   ]
  },
  {
   "cell_type": "code",
   "execution_count": 44,
   "id": "a2b0c94e",
   "metadata": {
    "_kg_hide-input": true,
    "execution": {
     "iopub.execute_input": "2021-09-20T20:03:00.442022Z",
     "iopub.status.busy": "2021-09-20T20:03:00.441258Z",
     "iopub.status.idle": "2021-09-20T20:03:01.852024Z",
     "shell.execute_reply": "2021-09-20T20:03:01.851352Z",
     "shell.execute_reply.started": "2021-09-20T19:54:12.026788Z"
    },
    "papermill": {
     "duration": 1.435807,
     "end_time": "2021-09-20T20:03:01.852223",
     "exception": false,
     "start_time": "2021-09-20T20:03:00.416416",
     "status": "completed"
    },
    "tags": []
   },
   "outputs": [],
   "source": [
    "import numpy as np\n",
    "import pandas as pd\n",
    "import matplotlib.pyplot as plt\n",
    "from sklearn.ensemble import RandomForestClassifier\n",
    "from sklearn.model_selection import train_test_split\n",
    "from sklearn.metrics import  accuracy_score, precision_score, recall_score, f1_score, roc_auc_score, classification_report\n",
    "from xgboost import XGBClassifier\n"
   ]
  },
  {
   "cell_type": "markdown",
   "id": "5aaae9e8",
   "metadata": {},
   "source": [
    "### Read the dataset \n",
    "You can also compare processed and non-processed data."
   ]
  },
  {
   "cell_type": "code",
   "execution_count": 45,
   "id": "d1775d95",
   "metadata": {
    "_kg_hide-input": true,
    "execution": {
     "iopub.execute_input": "2021-09-20T20:03:01.895944Z",
     "iopub.status.busy": "2021-09-20T20:03:01.895175Z",
     "iopub.status.idle": "2021-09-20T20:03:05.794695Z",
     "shell.execute_reply": "2021-09-20T20:03:05.795244Z",
     "shell.execute_reply.started": "2021-09-20T19:54:12.050571Z"
    },
    "papermill": {
     "duration": 3.924865,
     "end_time": "2021-09-20T20:03:05.795452",
     "exception": false,
     "start_time": "2021-09-20T20:03:01.870587",
     "status": "completed"
    },
    "tags": []
   },
   "outputs": [
    {
     "data": {
      "text/html": [
       "<div>\n",
       "<style scoped>\n",
       "    .dataframe tbody tr th:only-of-type {\n",
       "        vertical-align: middle;\n",
       "    }\n",
       "\n",
       "    .dataframe tbody tr th {\n",
       "        vertical-align: top;\n",
       "    }\n",
       "\n",
       "    .dataframe thead th {\n",
       "        text-align: right;\n",
       "    }\n",
       "</style>\n",
       "<table border=\"1\" class=\"dataframe\">\n",
       "  <thead>\n",
       "    <tr style=\"text-align: right;\">\n",
       "      <th></th>\n",
       "      <th>Pregnancies</th>\n",
       "      <th>Glucose</th>\n",
       "      <th>BloodPressure</th>\n",
       "      <th>SkinThickness</th>\n",
       "      <th>Insulin</th>\n",
       "      <th>BMI</th>\n",
       "      <th>DiabetesPedigreeFunction</th>\n",
       "      <th>Age</th>\n",
       "      <th>Outcome</th>\n",
       "    </tr>\n",
       "  </thead>\n",
       "  <tbody>\n",
       "    <tr>\n",
       "      <th>0</th>\n",
       "      <td>6</td>\n",
       "      <td>148</td>\n",
       "      <td>72</td>\n",
       "      <td>35</td>\n",
       "      <td>0</td>\n",
       "      <td>33.6</td>\n",
       "      <td>0.627</td>\n",
       "      <td>50</td>\n",
       "      <td>1</td>\n",
       "    </tr>\n",
       "    <tr>\n",
       "      <th>1</th>\n",
       "      <td>1</td>\n",
       "      <td>85</td>\n",
       "      <td>66</td>\n",
       "      <td>29</td>\n",
       "      <td>0</td>\n",
       "      <td>26.6</td>\n",
       "      <td>0.351</td>\n",
       "      <td>31</td>\n",
       "      <td>0</td>\n",
       "    </tr>\n",
       "    <tr>\n",
       "      <th>2</th>\n",
       "      <td>8</td>\n",
       "      <td>183</td>\n",
       "      <td>64</td>\n",
       "      <td>0</td>\n",
       "      <td>0</td>\n",
       "      <td>23.3</td>\n",
       "      <td>0.672</td>\n",
       "      <td>32</td>\n",
       "      <td>1</td>\n",
       "    </tr>\n",
       "    <tr>\n",
       "      <th>3</th>\n",
       "      <td>1</td>\n",
       "      <td>89</td>\n",
       "      <td>66</td>\n",
       "      <td>23</td>\n",
       "      <td>94</td>\n",
       "      <td>28.1</td>\n",
       "      <td>0.167</td>\n",
       "      <td>21</td>\n",
       "      <td>0</td>\n",
       "    </tr>\n",
       "    <tr>\n",
       "      <th>4</th>\n",
       "      <td>0</td>\n",
       "      <td>137</td>\n",
       "      <td>40</td>\n",
       "      <td>35</td>\n",
       "      <td>168</td>\n",
       "      <td>43.1</td>\n",
       "      <td>2.288</td>\n",
       "      <td>33</td>\n",
       "      <td>1</td>\n",
       "    </tr>\n",
       "  </tbody>\n",
       "</table>\n",
       "</div>"
      ],
      "text/plain": [
       "   Pregnancies  Glucose  BloodPressure  SkinThickness  Insulin   BMI  \\\n",
       "0            6      148             72             35        0  33.6   \n",
       "1            1       85             66             29        0  26.6   \n",
       "2            8      183             64              0        0  23.3   \n",
       "3            1       89             66             23       94  28.1   \n",
       "4            0      137             40             35      168  43.1   \n",
       "\n",
       "   DiabetesPedigreeFunction  Age  Outcome  \n",
       "0                     0.627   50        1  \n",
       "1                     0.351   31        0  \n",
       "2                     0.672   32        1  \n",
       "3                     0.167   21        0  \n",
       "4                     2.288   33        1  "
      ]
     },
     "execution_count": 45,
     "metadata": {},
     "output_type": "execute_result"
    }
   ],
   "source": [
    "df = pd.read_csv(\"../data/diabetes.csv\")\n",
    "df_cleaned = pd.read_csv(\"../data/df_imputed_clean.csv\")\n",
    "df.head()"
   ]
  },
  {
   "cell_type": "code",
   "execution_count": 46,
   "id": "abca048f",
   "metadata": {},
   "outputs": [],
   "source": [
    "data = df_cleaned.drop([\"Mahalanobis_Distance\",\"Outlier\",\"Multivariate_Outlier\"],axis = 1)\n"
   ]
  },
  {
   "cell_type": "markdown",
   "id": "ce5937d7",
   "metadata": {},
   "source": [
    "### Split the data and train a Random Forest model"
   ]
  },
  {
   "cell_type": "code",
   "execution_count": 47,
   "id": "878256be",
   "metadata": {},
   "outputs": [
    {
     "name": "stdout",
     "output_type": "stream",
     "text": [
      "Accuracy: 0.79\n",
      "Precision: 0.77\n",
      "Recall: 0.55\n",
      "F1-Score: 0.64\n"
     ]
    }
   ],
   "source": [
    "\n",
    "# Split the data into features (X) and target (y)\n",
    "X = data.drop(\"Outcome\", axis=1)\n",
    "y = data[\"Outcome\"]\n",
    "\n",
    "# Split the data into training and testing sets\n",
    "X_train, X_test, y_train, y_test = train_test_split(X, y, test_size=0.2, random_state=42)\n",
    "\n",
    "# Initialize the Random Forest Classifier\n",
    "rf_classifier = RandomForestClassifier(n_estimators=100, random_state=42)\n",
    "\n",
    "# Train the model\n",
    "rf_classifier.fit(X_train, y_train)\n",
    "\n",
    "# Make predictions on the test set\n",
    "y_pred = rf_classifier.predict(X_test)\n",
    "\n",
    "# Evaluate the model\n",
    "accuracy = accuracy_score(y_test, y_pred)\n",
    "precision = precision_score(y_test, y_pred)\n",
    "recall = recall_score(y_test, y_pred)\n",
    "f1 = f1_score(y_test, y_pred)\n",
    "\n",
    "# Print the evaluation metrics\n",
    "print(f\"Accuracy: {accuracy:.2f}\")\n",
    "print(f\"Precision: {precision:.2f}\")\n",
    "print(f\"Recall: {recall:.2f}\")\n",
    "print(f\"F1-Score: {f1:.2f}\")"
   ]
  },
  {
   "cell_type": "markdown",
   "id": "18e7c935",
   "metadata": {},
   "source": [
    "### Evaluate the prediction models using a classification report"
   ]
  },
  {
   "cell_type": "code",
   "execution_count": 48,
   "id": "977fd8e1",
   "metadata": {},
   "outputs": [
    {
     "name": "stdout",
     "output_type": "stream",
     "text": [
      "              precision    recall  f1-score   support\n",
      "\n",
      " No Diabetes       0.80      0.92      0.86        97\n",
      "    Diabetes       0.77      0.55      0.64        49\n",
      "\n",
      "    accuracy                           0.79       146\n",
      "   macro avg       0.79      0.73      0.75       146\n",
      "weighted avg       0.79      0.79      0.78       146\n",
      "\n"
     ]
    }
   ],
   "source": [
    "from sklearn.metrics import classification_report\n",
    "\n",
    "# Make predictions on the test set\n",
    "y_pred = rf_classifier.predict(X_test)\n",
    "\n",
    "# Generate the classification report\n",
    "report = classification_report(y_test, y_pred, target_names=[\"No Diabetes\", \"Diabetes\"])\n",
    "print(report)"
   ]
  },
  {
   "cell_type": "markdown",
   "id": "eb8898f6",
   "metadata": {
    "papermill": {
     "duration": 0.02043,
     "end_time": "2021-09-20T20:03:06.320402",
     "exception": false,
     "start_time": "2021-09-20T20:03:06.299972",
     "status": "completed"
    },
    "tags": []
   },
   "source": [
    "### Print the feature importances of the random forest"
   ]
  },
  {
   "cell_type": "code",
   "execution_count": 49,
   "id": "ba8c2fe9",
   "metadata": {},
   "outputs": [
    {
     "name": "stdout",
     "output_type": "stream",
     "text": [
      "                    Feature  Importance\n",
      "2                   Glucose    0.231341\n",
      "5                   Insulin    0.132579\n",
      "6                       BMI    0.125183\n",
      "8                       Age    0.113238\n",
      "7  DiabetesPedigreeFunction    0.104067\n",
      "0                Unnamed: 0    0.090704\n",
      "4             SkinThickness    0.087994\n",
      "3             BloodPressure    0.060949\n",
      "1               Pregnancies    0.053946\n"
     ]
    }
   ],
   "source": [
    "# Get feature importances from the trained Random Forest model\n",
    "importances = rf_classifier.feature_importances_\n",
    "\n",
    "# Create a DataFrame to display feature importances\n",
    "feature_importance_df = pd.DataFrame({\n",
    "    \"Feature\": X.columns,\n",
    "    \"Importance\": importances\n",
    "})\n",
    "\n",
    "# Sort the DataFrame by importance in descending order\n",
    "feature_importance_df = feature_importance_df.sort_values(by=\"Importance\", ascending=False)\n",
    "\n",
    "# Print the feature importances\n",
    "print(feature_importance_df)"
   ]
  },
  {
   "cell_type": "code",
   "execution_count": 50,
   "id": "05338b36",
   "metadata": {},
   "outputs": [
    {
     "name": "stdout",
     "output_type": "stream",
     "text": [
      "Random Forest Results:\n",
      "Accuracy: 0.7945\n",
      "Precision: 0.7714\n",
      "Recall: 0.5510\n",
      "F1-Score: 0.6429\n",
      "ROC-AUC: 0.8690\n",
      "\n",
      "Classification Report for Random Forest:\n",
      "              precision    recall  f1-score   support\n",
      "\n",
      " No Diabetes       0.80      0.92      0.86        97\n",
      "    Diabetes       0.77      0.55      0.64        49\n",
      "\n",
      "    accuracy                           0.79       146\n",
      "   macro avg       0.79      0.73      0.75       146\n",
      "weighted avg       0.79      0.79      0.78       146\n",
      "\n",
      "\n",
      "XGBoost Results:\n",
      "Accuracy: 0.7808\n",
      "Precision: 0.7429\n",
      "Recall: 0.5306\n",
      "F1-Score: 0.6190\n",
      "ROC-AUC: 0.8167\n",
      "\n",
      "Classification Report for XGBoost:\n",
      "              precision    recall  f1-score   support\n",
      "\n",
      " No Diabetes       0.79      0.91      0.85        97\n",
      "    Diabetes       0.74      0.53      0.62        49\n",
      "\n",
      "    accuracy                           0.78       146\n",
      "   macro avg       0.77      0.72      0.73       146\n",
      "weighted avg       0.78      0.78      0.77       146\n",
      "\n",
      "\n",
      "Model Comparison:\n",
      "           Model  Accuracy  Precision    Recall  F1-Score   ROC-AUC\n",
      "0  Random Forest  0.794521   0.771429  0.551020  0.642857  0.869030\n",
      "1        XGBoost  0.780822   0.742857  0.530612  0.619048  0.816747\n"
     ]
    }
   ],
   "source": [
    "# Split the data into features (X) and target (y)\n",
    "X = data.drop(\"Outcome\", axis=1)\n",
    "y = data[\"Outcome\"]\n",
    "\n",
    "# Split the data into training and testing sets\n",
    "X_train, X_test, y_train, y_test = train_test_split(X, y, test_size=0.2, random_state=42)\n",
    "\n",
    "# Train Random Forest model\n",
    "rf_classifier = RandomForestClassifier(n_estimators=100, random_state=42)\n",
    "rf_classifier.fit(X_train, y_train)\n",
    "\n",
    "# Train XGBoost model\n",
    "xgb_classifier = XGBClassifier(n_estimators=100, random_state=42, use_label_encoder=False, eval_metric=\"logloss\")\n",
    "xgb_classifier.fit(X_train, y_train)\n",
    "\n",
    "# Evaluate Random Forest model\n",
    "y_pred_rf = rf_classifier.predict(X_test)\n",
    "rf_accuracy = accuracy_score(y_test, y_pred_rf)\n",
    "rf_precision = precision_score(y_test, y_pred_rf)\n",
    "rf_recall = recall_score(y_test, y_pred_rf)\n",
    "rf_f1 = f1_score(y_test, y_pred_rf)\n",
    "rf_roc_auc = roc_auc_score(y_test, rf_classifier.predict_proba(X_test)[:, 1])\n",
    "\n",
    "# Evaluate XGBoost model\n",
    "y_pred_xgb = xgb_classifier.predict(X_test)\n",
    "xgb_accuracy = accuracy_score(y_test, y_pred_xgb)\n",
    "xgb_precision = precision_score(y_test, y_pred_xgb)\n",
    "xgb_recall = recall_score(y_test, y_pred_xgb)\n",
    "xgb_f1 = f1_score(y_test, y_pred_xgb)\n",
    "xgb_roc_auc = roc_auc_score(y_test, xgb_classifier.predict_proba(X_test)[:, 1])\n",
    "\n",
    "# Print results for Random Forest\n",
    "print(\"Random Forest Results:\")\n",
    "print(f\"Accuracy: {rf_accuracy:.4f}\")\n",
    "print(f\"Precision: {rf_precision:.4f}\")\n",
    "print(f\"Recall: {rf_recall:.4f}\")\n",
    "print(f\"F1-Score: {rf_f1:.4f}\")\n",
    "print(f\"ROC-AUC: {rf_roc_auc:.4f}\")\n",
    "print(\"\\nClassification Report for Random Forest:\")\n",
    "print(classification_report(y_test, y_pred_rf, target_names=[\"No Diabetes\", \"Diabetes\"]))\n",
    "\n",
    "# Print results for XGBoost\n",
    "print(\"\\nXGBoost Results:\")\n",
    "print(f\"Accuracy: {xgb_accuracy:.4f}\")\n",
    "print(f\"Precision: {xgb_precision:.4f}\")\n",
    "print(f\"Recall: {xgb_recall:.4f}\")\n",
    "print(f\"F1-Score: {xgb_f1:.4f}\")\n",
    "print(f\"ROC-AUC: {xgb_roc_auc:.4f}\")\n",
    "print(\"\\nClassification Report for XGBoost:\")\n",
    "print(classification_report(y_test, y_pred_xgb, target_names=[\"No Diabetes\", \"Diabetes\"]))\n",
    "\n",
    "# Compare results\n",
    "print(\"\\nModel Comparison:\")\n",
    "comparison_df = pd.DataFrame({\n",
    "    \"Model\": [\"Random Forest\", \"XGBoost\"],\n",
    "    \"Accuracy\": [rf_accuracy, xgb_accuracy],\n",
    "    \"Precision\": [rf_precision, xgb_precision],\n",
    "    \"Recall\": [rf_recall, xgb_recall],\n",
    "    \"F1-Score\": [rf_f1, xgb_f1],\n",
    "    \"ROC-AUC\": [rf_roc_auc, xgb_roc_auc]\n",
    "})\n",
    "print(comparison_df)"
   ]
  },
  {
   "cell_type": "code",
   "execution_count": null,
   "id": "ce0b6356",
   "metadata": {},
   "outputs": [],
   "source": []
  }
 ],
 "metadata": {
  "kernelspec": {
   "display_name": "aa_tuesday",
   "language": "python",
   "name": "python3"
  },
  "language_info": {
   "codemirror_mode": {
    "name": "ipython",
    "version": 3
   },
   "file_extension": ".py",
   "mimetype": "text/x-python",
   "name": "python",
   "nbconvert_exporter": "python",
   "pygments_lexer": "ipython3",
   "version": "3.9.21"
  },
  "papermill": {
   "default_parameters": {},
   "duration": 49.933279,
   "end_time": "2021-09-20T20:03:41.801824",
   "environment_variables": {},
   "exception": null,
   "input_path": "__notebook__.ipynb",
   "output_path": "__notebook__.ipynb",
   "parameters": {},
   "start_time": "2021-09-20T20:02:51.868545",
   "version": "2.3.3"
  }
 },
 "nbformat": 4,
 "nbformat_minor": 5
}
