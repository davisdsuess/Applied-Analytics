{
 "cells": [
  {
   "cell_type": "markdown",
   "id": "92fd1fb8",
   "metadata": {},
   "source": [
    "# Coding Block 4 - Automated model and hyperparameter tuning with AutoGluon"
   ]
  },
  {
   "cell_type": "markdown",
   "id": "c39695e0",
   "metadata": {},
   "source": [
    "### Load the packages"
   ]
  },
  {
   "cell_type": "code",
   "execution_count": 1,
   "id": "a2b0c94e",
   "metadata": {
    "_kg_hide-input": true,
    "execution": {
     "iopub.execute_input": "2021-09-20T20:03:00.442022Z",
     "iopub.status.busy": "2021-09-20T20:03:00.441258Z",
     "iopub.status.idle": "2021-09-20T20:03:01.852024Z",
     "shell.execute_reply": "2021-09-20T20:03:01.851352Z",
     "shell.execute_reply.started": "2021-09-20T19:54:12.026788Z"
    },
    "papermill": {
     "duration": 1.435807,
     "end_time": "2021-09-20T20:03:01.852223",
     "exception": false,
     "start_time": "2021-09-20T20:03:00.416416",
     "status": "completed"
    },
    "tags": []
   },
   "outputs": [
    {
     "name": "stderr",
     "output_type": "stream",
     "text": [
      "/Users/chrisoesterreich/Developement/anaconda3/envs/donnerstag/lib/python3.9/site-packages/tqdm/auto.py:21: TqdmWarning: IProgress not found. Please update jupyter and ipywidgets. See https://ipywidgets.readthedocs.io/en/stable/user_install.html\n",
      "  from .autonotebook import tqdm as notebook_tqdm\n"
     ]
    },
    {
     "data": {
      "text/plain": [
       "'\\n...\\n'"
      ]
     },
     "execution_count": 1,
     "metadata": {},
     "output_type": "execute_result"
    }
   ],
   "source": [
    "#!pip install autogluon.tabular  > /dev/null 2>&1\n",
    "import numpy as np\n",
    "import pandas as pd\n",
    "import matplotlib.pyplot as plt\n",
    "from sklearn.ensemble import RandomForestClassifier\n",
    "from sklearn.model_selection import train_test_split\n",
    "from sklearn.metrics import accuracy_score\n",
    "# AutoML\n",
    "from autogluon.tabular import TabularPredictor\n",
    "'''\n",
    "...\n",
    "'''"
   ]
  },
  {
   "cell_type": "markdown",
   "id": "5aaae9e8",
   "metadata": {},
   "source": [
    "### Read the dataset \n",
    "You can also compare processed and non-processed data. The autogluon library will do some preprocessing as well."
   ]
  },
  {
   "cell_type": "code",
   "execution_count": 4,
   "id": "d1775d95",
   "metadata": {
    "_kg_hide-input": true,
    "execution": {
     "iopub.execute_input": "2021-09-20T20:03:01.895944Z",
     "iopub.status.busy": "2021-09-20T20:03:01.895175Z",
     "iopub.status.idle": "2021-09-20T20:03:05.794695Z",
     "shell.execute_reply": "2021-09-20T20:03:05.795244Z",
     "shell.execute_reply.started": "2021-09-20T19:54:12.050571Z"
    },
    "papermill": {
     "duration": 3.924865,
     "end_time": "2021-09-20T20:03:05.795452",
     "exception": false,
     "start_time": "2021-09-20T20:03:01.870587",
     "status": "completed"
    },
    "tags": []
   },
   "outputs": [],
   "source": [
    "df = pd.read_csv('../data/df_imputed_clean.csv')\n",
    "df = df.drop(columns=['Mahalanobis_Distance', 'Multivariate_Outlier', 'Outlier', 'Unnamed: 0'])"
   ]
  },
  {
   "cell_type": "markdown",
   "id": "ce5937d7",
   "metadata": {},
   "source": [
    "### Use the Autogluon library\n",
    "Use the library autogluon for automated hyperparametertuning and model benchmarking. The fit function of the TabularPredictor object allows for setting the option: <br>\n",
    "<i>presets = {‘best_quality’, ‘high_quality’, ‘good_quality’, ‘medium_quality’, ‘experimental_quality’, ‘optimize_for_deployment’, ‘interpretable’, ‘ignore_text’}</i> <br>\n",
    "\n",
    "medium_quality can limit the depths of hyperparameter optimization.."
   ]
  },
  {
   "cell_type": "code",
   "execution_count": 5,
   "id": "878256be",
   "metadata": {},
   "outputs": [
    {
     "name": "stderr",
     "output_type": "stream",
     "text": [
      "No path specified. Models will be saved in: \"AutogluonModels/ag-20250320_133056\"\n",
      "Verbosity: 2 (Standard Logging)\n",
      "=================== System Info ===================\n",
      "AutoGluon Version:  1.2\n",
      "Python Version:     3.9.21\n",
      "Operating System:   Darwin\n",
      "Platform Machine:   arm64\n",
      "Platform Version:   Darwin Kernel Version 24.2.0: Fri Dec  6 19:01:59 PST 2024; root:xnu-11215.61.5~2/RELEASE_ARM64_T6000\n",
      "CPU Count:          8\n",
      "Memory Avail:       4.05 GB / 16.00 GB (25.3%)\n",
      "Disk Space Avail:   15.03 GB / 460.43 GB (3.3%)\n",
      "===================================================\n",
      "Presets specified: ['medium_quality']\n",
      "Beginning AutoGluon training ...\n",
      "AutoGluon will save models to \"/Users/chrisoesterreich/Desktop/AppliedAnalytics/Applied-Analytics/04_Thursday/AutogluonModels/ag-20250320_133056\"\n",
      "Train Data Rows:    583\n",
      "Train Data Columns: 8\n",
      "Label Column:       Outcome\n",
      "AutoGluon infers your prediction problem is: 'binary' (because only two unique label-values observed).\n",
      "\t2 unique label values:  [1.0, 0.0]\n",
      "\tIf 'binary' is not the correct problem_type, please manually specify the problem_type parameter during Predictor init (You may specify problem_type as one of: ['binary', 'multiclass', 'regression', 'quantile'])\n",
      "Problem Type:       binary\n",
      "Preprocessing data ...\n",
      "Selected class <--> label mapping:  class 1 = 1, class 0 = 0\n",
      "Using Feature Generators to preprocess the data ...\n",
      "Fitting AutoMLPipelineFeatureGenerator...\n",
      "\tAvailable Memory:                    4147.05 MB\n",
      "\tTrain Data (Original)  Memory Usage: 0.04 MB (0.0% of available memory)\n",
      "\tInferring data type of each feature based on column values. Set feature_metadata_in to manually specify special dtypes of the features.\n",
      "\tStage 1 Generators:\n",
      "\t\tFitting AsTypeFeatureGenerator...\n",
      "\tStage 2 Generators:\n",
      "\t\tFitting FillNaFeatureGenerator...\n",
      "\tStage 3 Generators:\n",
      "\t\tFitting IdentityFeatureGenerator...\n",
      "\tStage 4 Generators:\n",
      "\t\tFitting DropUniqueFeatureGenerator...\n",
      "\tStage 5 Generators:\n",
      "\t\tFitting DropDuplicatesFeatureGenerator...\n",
      "\tTypes of features in original data (raw dtype, special dtypes):\n",
      "\t\t('float', []) : 8 | ['Pregnancies', 'Glucose', 'BloodPressure', 'SkinThickness', 'Insulin', ...]\n",
      "\tTypes of features in processed data (raw dtype, special dtypes):\n",
      "\t\t('float', []) : 8 | ['Pregnancies', 'Glucose', 'BloodPressure', 'SkinThickness', 'Insulin', ...]\n",
      "\t0.0s = Fit runtime\n",
      "\t8 features in original data used to generate 8 features in processed data.\n",
      "\tTrain Data (Processed) Memory Usage: 0.04 MB (0.0% of available memory)\n",
      "Data preprocessing and feature engineering runtime = 0.02s ...\n",
      "AutoGluon will gauge predictive performance using evaluation metric: 'accuracy'\n",
      "\tTo change this, specify the eval_metric parameter of Predictor()\n",
      "Automatically generating train/validation split with holdout_frac=0.2, Train Rows: 466, Val Rows: 117\n",
      "User-specified model hyperparameters to be fit:\n",
      "{\n",
      "\t'NN_TORCH': [{}],\n",
      "\t'GBM': [{'extra_trees': True, 'ag_args': {'name_suffix': 'XT'}}, {}, {'learning_rate': 0.03, 'num_leaves': 128, 'feature_fraction': 0.9, 'min_data_in_leaf': 3, 'ag_args': {'name_suffix': 'Large', 'priority': 0, 'hyperparameter_tune_kwargs': None}}],\n",
      "\t'CAT': [{}],\n",
      "\t'XGB': [{}],\n",
      "\t'FASTAI': [{}],\n",
      "\t'RF': [{'criterion': 'gini', 'ag_args': {'name_suffix': 'Gini', 'problem_types': ['binary', 'multiclass']}}, {'criterion': 'entropy', 'ag_args': {'name_suffix': 'Entr', 'problem_types': ['binary', 'multiclass']}}, {'criterion': 'squared_error', 'ag_args': {'name_suffix': 'MSE', 'problem_types': ['regression', 'quantile']}}],\n",
      "\t'XT': [{'criterion': 'gini', 'ag_args': {'name_suffix': 'Gini', 'problem_types': ['binary', 'multiclass']}}, {'criterion': 'entropy', 'ag_args': {'name_suffix': 'Entr', 'problem_types': ['binary', 'multiclass']}}, {'criterion': 'squared_error', 'ag_args': {'name_suffix': 'MSE', 'problem_types': ['regression', 'quantile']}}],\n",
      "\t'KNN': [{'weights': 'uniform', 'ag_args': {'name_suffix': 'Unif'}}, {'weights': 'distance', 'ag_args': {'name_suffix': 'Dist'}}],\n",
      "}\n",
      "Fitting 13 L1 models, fit_strategy=\"sequential\" ...\n",
      "Fitting model: KNeighborsUnif ...\n",
      "\t0.7863\t = Validation score   (accuracy)\n",
      "\t0.0s\t = Training   runtime\n",
      "\t0.03s\t = Validation runtime\n",
      "Fitting model: KNeighborsDist ...\n",
      "\t0.7863\t = Validation score   (accuracy)\n",
      "\t0.0s\t = Training   runtime\n",
      "\t0.01s\t = Validation runtime\n",
      "Fitting model: LightGBMXT ...\n",
      "\t0.7949\t = Validation score   (accuracy)\n",
      "\t0.21s\t = Training   runtime\n",
      "\t0.0s\t = Validation runtime\n",
      "Fitting model: LightGBM ...\n",
      "\t0.7949\t = Validation score   (accuracy)\n",
      "\t0.93s\t = Training   runtime\n",
      "\t0.0s\t = Validation runtime\n",
      "Fitting model: RandomForestGini ...\n",
      "\t0.7607\t = Validation score   (accuracy)\n",
      "\t0.33s\t = Training   runtime\n",
      "\t0.03s\t = Validation runtime\n",
      "Fitting model: RandomForestEntr ...\n",
      "\t0.7607\t = Validation score   (accuracy)\n",
      "\t0.24s\t = Training   runtime\n",
      "\t0.02s\t = Validation runtime\n",
      "Fitting model: CatBoost ...\n",
      "\tWarning: Exception caused CatBoost to fail during training (ImportError)... Skipping this model.\n",
      "\t\t`import catboost` failed. A quick tip is to install via `pip install autogluon.tabular[catboost]==1.2`.\n",
      "Fitting model: ExtraTreesGini ...\n",
      "\t0.7607\t = Validation score   (accuracy)\n",
      "\t0.24s\t = Training   runtime\n",
      "\t0.02s\t = Validation runtime\n",
      "Fitting model: ExtraTreesEntr ...\n",
      "\t0.7265\t = Validation score   (accuracy)\n",
      "\t0.24s\t = Training   runtime\n",
      "\t0.02s\t = Validation runtime\n",
      "Fitting model: NeuralNetFastAI ...\n",
      "\tWarning: Exception caused NeuralNetFastAI to fail during training (ImportError)... Skipping this model.\n",
      "\t\tImport fastai failed. A quick tip is to install via `pip install autogluon.tabular[fastai]==1.2`. \n",
      "Fitting model: XGBoost ...\n",
      "\t0.7949\t = Validation score   (accuracy)\n",
      "\t0.24s\t = Training   runtime\n",
      "\t0.0s\t = Validation runtime\n",
      "Fitting model: NeuralNetTorch ...\n",
      "\tWarning: Exception caused NeuralNetTorch to fail during training (ImportError)... Skipping this model.\n",
      "\t\tUnable to import dependency torch\n",
      "A quick tip is to install via `pip install torch`.\n",
      "The minimum torch version is currently 2.2.\n",
      "Fitting model: LightGBMLarge ...\n",
      "\t0.7692\t = Validation score   (accuracy)\n",
      "\t1.76s\t = Training   runtime\n",
      "\t0.0s\t = Validation runtime\n",
      "Fitting model: WeightedEnsemble_L2 ...\n",
      "\tEnsemble Weights: {'LightGBMXT': 1.0}\n",
      "\t0.7949\t = Validation score   (accuracy)\n",
      "\t0.02s\t = Training   runtime\n",
      "\t0.0s\t = Validation runtime\n",
      "AutoGluon training complete, total runtime = 4.63s ... Best model: WeightedEnsemble_L2 | Estimated inference throughput: 96620.1 rows/s (117 batch size)\n",
      "Disabling decision threshold calibration for metric `accuracy` due to having fewer than 10000 rows of validation data for calibration, to avoid overfitting (117 rows).\n",
      "\t`accuracy` is generally not improved through threshold calibration. Force calibration via specifying `calibrate_decision_threshold=True`.\n",
      "TabularPredictor saved. To load, use: predictor = TabularPredictor.load(\"/Users/chrisoesterreich/Desktop/AppliedAnalytics/Applied-Analytics/04_Thursday/AutogluonModels/ag-20250320_133056\")\n"
     ]
    },
    {
     "name": "stdout",
     "output_type": "stream",
     "text": [
      "                  model  score_test  score_val eval_metric  pred_time_test  \\\n",
      "0               XGBoost    0.760274   0.794872    accuracy        0.004179   \n",
      "1            LightGBMXT    0.746575   0.794872    accuracy        0.000951   \n",
      "2   WeightedEnsemble_L2    0.746575   0.794872    accuracy        0.002209   \n",
      "3        ExtraTreesGini    0.739726   0.760684    accuracy        0.034270   \n",
      "4      RandomForestGini    0.732877   0.760684    accuracy        0.030221   \n",
      "5        ExtraTreesEntr    0.732877   0.726496    accuracy        0.032540   \n",
      "6      RandomForestEntr    0.726027   0.760684    accuracy        0.031669   \n",
      "7        KNeighborsUnif    0.712329   0.786325    accuracy        0.016160   \n",
      "8         LightGBMLarge    0.705479   0.769231    accuracy        0.003820   \n",
      "9        KNeighborsDist    0.705479   0.786325    accuracy        0.014689   \n",
      "10             LightGBM    0.657534   0.794872    accuracy        0.005811   \n",
      "\n",
      "    pred_time_val  fit_time  pred_time_test_marginal  pred_time_val_marginal  \\\n",
      "0        0.001155  0.239172                 0.004179                0.001155   \n",
      "1        0.000595  0.214842                 0.000951                0.000595   \n",
      "2        0.001211  0.234116                 0.001258                0.000616   \n",
      "3        0.024891  0.243079                 0.034270                0.024891   \n",
      "4        0.025636  0.331316                 0.030221                0.025636   \n",
      "5        0.024944  0.237662                 0.032540                0.024944   \n",
      "6        0.023443  0.244385                 0.031669                0.023443   \n",
      "7        0.026975  0.003249                 0.016160                0.026975   \n",
      "8        0.000913  1.761157                 0.003820                0.000913   \n",
      "9        0.014227  0.003793                 0.014689                0.014227   \n",
      "10       0.002120  0.927006                 0.005811                0.002120   \n",
      "\n",
      "    fit_time_marginal  stack_level  can_infer  fit_order  \n",
      "0            0.239172            1       True          9  \n",
      "1            0.214842            1       True          3  \n",
      "2            0.019274            2       True         11  \n",
      "3            0.243079            1       True          7  \n",
      "4            0.331316            1       True          5  \n",
      "5            0.237662            1       True          8  \n",
      "6            0.244385            1       True          6  \n",
      "7            0.003249            1       True          1  \n",
      "8            1.761157            1       True         10  \n",
      "9            0.003793            1       True          2  \n",
      "10           0.927006            1       True          4  \n"
     ]
    },
    {
     "data": {
      "image/png": "[encoded data removed]",
      "text/plain": [
       "<Figure size 1000x500 with 1 Axes>"
      ]
     },
     "metadata": {},
     "output_type": "display_data"
    },
    {
     "name": "stdout",
     "output_type": "stream",
     "text": [
      "    Outcome  Predicted\n",
      "1       0.0        0.0\n",
      "4       0.0        0.0\n",
      "13      1.0        0.0\n",
      "14      0.0        0.0\n",
      "20      1.0        1.0\n"
     ]
    }
   ],
   "source": [
    "from autogluon.tabular import TabularPredictor\n",
    "import matplotlib.pyplot as plt\n",
    "import pandas as pd\n",
    "\n",
    "# Ensure df is a Pandas DataFrame\n",
    "if not isinstance(df, pd.DataFrame):\n",
    "    raise ValueError(\"df must be a pandas DataFrame\")\n",
    "\n",
    "# Define the target variable\n",
    "TARGET = 'Outcome'  # Modify this if your target column is named differently\n",
    "\n",
    "# Split data into train and test sets\n",
    "test_fraction = 0.2\n",
    "df_train = df.sample(frac=(1 - test_fraction), random_state=42)\n",
    "df_test = df.drop(df_train.index)\n",
    "\n",
    "# Initialize and train AutoGluon\n",
    "predictor = TabularPredictor(label=TARGET).fit(df_train, presets='medium_quality')\n",
    "\n",
    "# Evaluate the model\n",
    "leaderboard = predictor.leaderboard(df_test, silent=True)\n",
    "print(leaderboard)\n",
    "\n",
    "# Plot model performance\n",
    "plt.figure(figsize=(10, 5))\n",
    "plt.barh(leaderboard['model'], leaderboard['score_val'], color='skyblue')\n",
    "plt.xlabel('Validation Score')\n",
    "plt.ylabel('Model')\n",
    "plt.title('AutoGluon Model Performance')\n",
    "plt.gca().invert_yaxis()\n",
    "plt.show()\n",
    "\n",
    "# Make predictions\n",
    "y_pred = predictor.predict(df_test.drop(columns=[TARGET]))\n",
    "\n",
    "# Display first few predictions\n",
    "predictions = df_test[[TARGET]].copy()\n",
    "predictions['Predicted'] = y_pred\n",
    "print(predictions.head())\n"
   ]
  },
  {
   "cell_type": "markdown",
   "id": "ee236424",
   "metadata": {},
   "source": []
  },
  {
   "cell_type": "markdown",
   "id": "5d414ebe",
   "metadata": {},
   "source": [
    "### Show the leaderboard\n",
    "TabularPredictor objects from Autogluon provide a function \"leaderboard\""
   ]
  },
  {
   "cell_type": "code",
   "execution_count": null,
   "id": "c06190c2",
   "metadata": {},
   "outputs": [],
   "source": []
  },
  {
   "cell_type": "markdown",
   "id": "a513f67a",
   "metadata": {},
   "source": [
    "### Show the feature importance table\n",
    "The TabularPredictor class from Autogluon also provides a function \"feature_importance\""
   ]
  },
  {
   "cell_type": "code",
   "execution_count": 6,
   "id": "2c29e109",
   "metadata": {},
   "outputs": [
    {
     "name": "stderr",
     "output_type": "stream",
     "text": [
      "Computing feature importance via permutation shuffling for 8 features using 583 rows with 5 shuffle sets...\n",
      "\t0.17s\t= Expected runtime (0.03s per shuffle set)\n",
      "\t0.04s\t= Actual runtime (Completed 5 of 5 shuffle sets)\n"
     ]
    },
    {
     "name": "stdout",
     "output_type": "stream",
     "text": [
      "                          importance    stddev   p_value  n  p99_high  \\\n",
      "Glucose                     0.115266  0.009028  0.000004  5  0.133854   \n",
      "Age                         0.018525  0.002544  0.000042  5  0.023763   \n",
      "SkinThickness               0.018182  0.006486  0.001653  5  0.031537   \n",
      "BMI                         0.013379  0.006113  0.004039  5  0.025965   \n",
      "DiabetesPedigreeFunction    0.012693  0.004942  0.002277  5  0.022868   \n",
      "Insulin                     0.012007  0.004697  0.002318  5  0.021679   \n",
      "Pregnancies                 0.007890  0.003116  0.002398  5  0.014306   \n",
      "BloodPressure               0.002401  0.002301  0.039980  5  0.007140   \n",
      "\n",
      "                           p99_low  \n",
      "Glucose                   0.096678  \n",
      "Age                       0.013286  \n",
      "SkinThickness             0.004826  \n",
      "BMI                       0.000793  \n",
      "DiabetesPedigreeFunction  0.002518  \n",
      "Insulin                   0.002335  \n",
      "Pregnancies               0.001474  \n",
      "BloodPressure            -0.002337  \n"
     ]
    },
    {
     "data": {
      "image/png": "[encoded data removed]",
      "text/plain": [
       "<Figure size 1000x500 with 1 Axes>"
      ]
     },
     "metadata": {},
     "output_type": "display_data"
    },
    {
     "name": "stdout",
     "output_type": "stream",
     "text": [
      "    Outcome  Predicted\n",
      "1       0.0        0.0\n",
      "4       0.0        0.0\n",
      "13      1.0        0.0\n",
      "14      0.0        0.0\n",
      "20      1.0        1.0\n"
     ]
    }
   ],
   "source": [
    "# Show feature importance\n",
    "feature_importance = predictor.feature_importance(df_train)\n",
    "print(feature_importance)\n",
    "\n",
    "# Plot feature importance\n",
    "plt.figure(figsize=(10, 5))\n",
    "plt.barh(feature_importance.index, feature_importance['importance'], color='lightcoral')\n",
    "plt.xlabel('Feature Importance')\n",
    "plt.ylabel('Feature')\n",
    "plt.title('Feature Importance from AutoGluon')\n",
    "plt.gca().invert_yaxis()\n",
    "plt.show()\n",
    "\n",
    "# Make predictions\n",
    "y_pred = predictor.predict(df_test.drop(columns=[TARGET]))\n",
    "\n",
    "# Display first few predictions\n",
    "predictions = df_test[[TARGET]].copy()\n",
    "predictions['Predicted'] = y_pred\n",
    "print(predictions.head())"
   ]
  }
 ],
 "metadata": {
  "kernelspec": {
   "display_name": "donnerstag",
   "language": "python",
   "name": "python3"
  },
  "language_info": {
   "codemirror_mode": {
    "name": "ipython",
    "version": 3
   },
   "file_extension": ".py",
   "mimetype": "text/x-python",
   "name": "python",
   "nbconvert_exporter": "python",
   "pygments_lexer": "ipython3",
   "version": "3.9.21"
  },
  "papermill": {
   "default_parameters": {},
   "duration": 49.933279,
   "end_time": "2021-09-20T20:03:41.801824",
   "environment_variables": {},
   "exception": null,
   "input_path": "__notebook__.ipynb",
   "output_path": "__notebook__.ipynb",
   "parameters": {},
   "start_time": "2021-09-20T20:02:51.868545",
   "version": "2.3.3"
  }
 },
 "nbformat": 4,
 "nbformat_minor": 5
}
