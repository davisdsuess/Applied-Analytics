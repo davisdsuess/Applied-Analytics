{
 "cells": [
  {
   "cell_type": "markdown",
   "id": "92fd1fb8",
   "metadata": {},
   "source": [
    "# Coding Block 2 - Hyperparameter Optimization"
   ]
  },
  {
   "cell_type": "markdown",
   "id": "c39695e0",
   "metadata": {},
   "source": [
    "### Load the packages"
   ]
  },
  {
   "cell_type": "code",
   "execution_count": 9,
   "id": "a2b0c94e",
   "metadata": {},
   "outputs": [],
   "source": [
    "import numpy as np\n",
    "import pandas as pd\n",
    "import matplotlib.pyplot as plt\n",
    "from sklearn.ensemble import RandomForestClassifier\n",
    "from sklearn.model_selection import train_test_split, GridSearchCV, RandomizedSearchCV\n",
    "from sklearn.metrics import accuracy_score, classification_report\n",
    "import time\n",
    "from sklearn.model_selection import GridSearchCV\n",
    "from xgboost import XGBClassifier\n",
    "from sklearn.model_selection import train_test_split, GridSearchCV\n",
    "from sklearn.metrics import accuracy_score, classification_report"
   ]
  },
  {
   "cell_type": "markdown",
   "id": "5aaae9e8",
   "metadata": {},
   "source": [
    "### Read the dataset"
   ]
  },
  {
   "cell_type": "code",
   "execution_count": 10,
   "id": "d1775d95",
   "metadata": {},
   "outputs": [],
   "source": [
    "data = pd.read_csv(\"../data/df_imputed_clean.csv\")\n",
    "data = data.drop(columns=['Mahalanobis_Distance','Multivariate_Outlier','Outlier'])"
   ]
  },
  {
   "cell_type": "markdown",
   "id": "18e7c935",
   "metadata": {},
   "source": [
    "### Copy the code from your last successful classifiers (RF, XGBoost, ...)\n",
    "Or use function below for XGBoost/RF"
   ]
  },
  {
   "cell_type": "code",
   "execution_count": 11,
   "id": "977fd8e1",
   "metadata": {},
   "outputs": [],
   "source": [
    "def create_model(data, model_type=\"xgboost\"):\n",
    "    \"\"\"\n",
    "    Create and train ML models on the given dataset\n",
    "    \n",
    "    Parameters:\n",
    "    -----------\n",
    "    data : DataFrame\n",
    "        The dataset containing features and target variable\n",
    "    model_type : str\n",
    "        The type of model to create (default: \"xgboost\")\n",
    "        \n",
    "    Returns:\n",
    "    --------\n",
    "    dict\n",
    "        Dictionary containing the trained model, X and y data, and train/test splits\n",
    "    \"\"\"\n",
    "    # Separate features and target\n",
    "    X = data.drop('Outcome', axis=1)\n",
    "    y = data['Outcome']\n",
    "    \n",
    "    # Split the data\n",
    "    X_train, X_test, y_train, y_test = train_test_split(X, y, test_size=0.2, random_state=42)\n",
    "    \n",
    "    # Create and train model based on type\n",
    "    if model_type == \"random_forest\":\n",
    "        from sklearn.ensemble import RandomForestClassifier\n",
    "        model = RandomForestClassifier(random_state=42)\n",
    "        model.fit(X_train, y_train)\n",
    "    elif model_type == \"xgboost\":\n",
    "        import xgboost as xgb\n",
    "        model = xgb.XGBClassifier(random_state=42)\n",
    "        model.fit(X_train, y_train)\n",
    "    else:\n",
    "        raise ValueError(f\"Unsupported model type: {model_type}\")\n",
    "    \n",
    "    # Evaluate the model\n",
    "    y_pred = model.predict(X_test)\n",
    "    accuracy = accuracy_score(y_test, y_pred)\n",
    "    print(f\"{model_type.title()} Model Accuracy: {accuracy:.4f}\")\n",
    "    print(classification_report(y_test, y_pred))\n",
    "    \n",
    "    # Return model and data\n",
    "    return {\n",
    "        \"model\": model\n",
    "    }"
   ]
  },
  {
   "cell_type": "markdown",
   "id": "eb8898f6",
   "metadata": {},
   "source": [
    "### Define the parameter grid for GridSearchCV or use RandomizedSearchCV"
   ]
  },
  {
   "cell_type": "markdown",
   "id": "e2f653f6",
   "metadata": {},
   "source": [
    "### Perform GridSearchCV or RandomizedSearchCV and tune the hyperparameters of the model\n",
    "Maybe the hyperparameter tuning won't finish in time though. No problem."
   ]
  },
  {
   "cell_type": "code",
   "execution_count": 12,
   "id": "a6d03466",
   "metadata": {},
   "outputs": [
    {
     "name": "stdout",
     "output_type": "stream",
     "text": [
      "Fitting 5 folds for each of 324 candidates, totalling 1620 fits\n",
      "Best Parameters for XGBoost: {'colsample_bytree': 0.8, 'gamma': 0.1, 'learning_rate': 0.1, 'max_depth': 3, 'n_estimators': 50, 'subsample': 1.0}\n",
      "Best Cross-Validation Accuracy for XGBoost: 0.7803566165635132\n",
      "\n",
      "Test Set Evaluation for XGBoost:\n",
      "Accuracy: 0.7602739726027398\n",
      "\n",
      "Classification Report:\n",
      "              precision    recall  f1-score   support\n",
      "\n",
      " No Diabetes       0.77      0.91      0.83        97\n",
      "    Diabetes       0.72      0.47      0.57        49\n",
      "\n",
      "    accuracy                           0.76       146\n",
      "   macro avg       0.75      0.69      0.70       146\n",
      "weighted avg       0.75      0.76      0.74       146\n",
      "\n"
     ]
    },
    {
     "name": "stderr",
     "output_type": "stream",
     "text": [
      "c:\\Users\\rapha\\anaconda3\\envs\\aa_tuesday\\lib\\site-packages\\xgboost\\core.py:158: UserWarning: [14:42:22] WARNING: C:\\b\\abs_90_bwj_86a\\croot\\xgboost-split_1724073762025\\work\\src\\learner.cc:740: \n",
      "Parameters: { \"use_label_encoder\" } are not used.\n",
      "\n",
      "  warnings.warn(smsg, UserWarning)\n"
     ]
    }
   ],
   "source": [
    "# Split the data into features (X) and target (y)\n",
    "X = data.drop(\"Outcome\", axis=1)\n",
    "y = data[\"Outcome\"]\n",
    "\n",
    "# Split the data into training and testing sets\n",
    "X_train, X_test, y_train, y_test = train_test_split(X, y, test_size=0.2, random_state=42)\n",
    "\n",
    "# Define the parameter grid for XGBoost\n",
    "param_grid_xgb = {\n",
    "    \"n_estimators\": [50, 100, 200],  # Number of boosting rounds\n",
    "    \"max_depth\": [3, 6, 9],  # Maximum depth of trees\n",
    "    \"learning_rate\": [0.01, 0.1, 0.2],  # Learning rate\n",
    "    \"subsample\": [0.8, 1.0],  # Fraction of samples used for training\n",
    "    \"colsample_bytree\": [0.8, 1.0],  # Fraction of features used for training\n",
    "    \"gamma\": [0, 0.1, 0.2]  # Minimum loss reduction for a split\n",
    "}\n",
    "\n",
    "# Initialize the XGBoost model\n",
    "xgb_classifier = XGBClassifier(random_state=42, use_label_encoder=False, eval_metric=\"logloss\")\n",
    "\n",
    "# Perform GridSearchCV for XGBoost\n",
    "grid_search_xgb = GridSearchCV(estimator=xgb_classifier, param_grid=param_grid_xgb, scoring=\"accuracy\", cv=5, n_jobs=-1, verbose=1)\n",
    "grid_search_xgb.fit(X_train, y_train)\n",
    "\n",
    "# Print the best parameters and score\n",
    "print(\"Best Parameters for XGBoost:\", grid_search_xgb.best_params_)\n",
    "print(\"Best Cross-Validation Accuracy for XGBoost:\", grid_search_xgb.best_score_)\n",
    "\n",
    "# Evaluate the best model on the test set\n",
    "best_xgb_model = grid_search_xgb.best_estimator_\n",
    "y_pred_xgb = best_xgb_model.predict(X_test)\n",
    "\n",
    "# Print classification report and accuracy\n",
    "print(\"\\nTest Set Evaluation for XGBoost:\")\n",
    "print(\"Accuracy:\", accuracy_score(y_test, y_pred_xgb))\n",
    "print(\"\\nClassification Report:\")\n",
    "print(classification_report(y_test, y_pred_xgb, target_names=[\"No Diabetes\", \"Diabetes\"]))"
   ]
  },
  {
   "cell_type": "code",
   "execution_count": 13,
   "id": "3801c065",
   "metadata": {},
   "outputs": [
    {
     "ename": "NameError",
     "evalue": "name 'xgb' is not defined",
     "output_type": "error",
     "traceback": [
      "\u001b[1;31m---------------------------------------------------------------------------\u001b[0m",
      "\u001b[1;31mNameError\u001b[0m                                 Traceback (most recent call last)",
      "Cell \u001b[1;32mIn[13], line 9\u001b[0m\n\u001b[0;32m      6\u001b[0m X_train, X_test, y_train, y_test \u001b[38;5;241m=\u001b[39m train_test_split(X, y, test_size\u001b[38;5;241m=\u001b[39m\u001b[38;5;241m0.2\u001b[39m, random_state\u001b[38;5;241m=\u001b[39m\u001b[38;5;241m42\u001b[39m)\n\u001b[0;32m      8\u001b[0m \u001b[38;5;66;03m# Initialize XGBoost Classifier\u001b[39;00m\n\u001b[1;32m----> 9\u001b[0m xgb_classifier \u001b[38;5;241m=\u001b[39m \u001b[43mxgb\u001b[49m\u001b[38;5;241m.\u001b[39mXGBClassifier(use_label_encoder\u001b[38;5;241m=\u001b[39m\u001b[38;5;28;01mFalse\u001b[39;00m, eval_metric\u001b[38;5;241m=\u001b[39m\u001b[38;5;124m\"\u001b[39m\u001b[38;5;124mlogloss\u001b[39m\u001b[38;5;124m\"\u001b[39m)\n\u001b[0;32m     11\u001b[0m \u001b[38;5;66;03m# Define the parameter grid\u001b[39;00m\n\u001b[0;32m     12\u001b[0m param_grid \u001b[38;5;241m=\u001b[39m {\n\u001b[0;32m     13\u001b[0m     \u001b[38;5;124m\"\u001b[39m\u001b[38;5;124mn_estimators\u001b[39m\u001b[38;5;124m\"\u001b[39m: [\u001b[38;5;241m50\u001b[39m, \u001b[38;5;241m100\u001b[39m, \u001b[38;5;241m200\u001b[39m],   \u001b[38;5;66;03m# Number of trees\u001b[39;00m\n\u001b[0;32m     14\u001b[0m     \u001b[38;5;124m\"\u001b[39m\u001b[38;5;124mmax_depth\u001b[39m\u001b[38;5;124m\"\u001b[39m: [\u001b[38;5;241m3\u001b[39m, \u001b[38;5;241m5\u001b[39m, \u001b[38;5;241m7\u001b[39m],           \u001b[38;5;66;03m# Depth of trees\u001b[39;00m\n\u001b[1;32m   (...)\u001b[0m\n\u001b[0;32m     17\u001b[0m     \u001b[38;5;124m\"\u001b[39m\u001b[38;5;124mcolsample_bytree\u001b[39m\u001b[38;5;124m\"\u001b[39m: [\u001b[38;5;241m0.8\u001b[39m, \u001b[38;5;241m1.0\u001b[39m]    \u001b[38;5;66;03m# Fraction of features used per tree\u001b[39;00m\n\u001b[0;32m     18\u001b[0m }\n",
      "\u001b[1;31mNameError\u001b[0m: name 'xgb' is not defined"
     ]
    }
   ],
   "source": [
    "\n",
    "# Load dataset\n",
    "X = data.drop(\"Outcome\", axis=1)\n",
    "y = data[\"Outcome\"]\n",
    "\n",
    "# Split into train and test sets\n",
    "X_train, X_test, y_train, y_test = train_test_split(X, y, test_size=0.2, random_state=42)\n",
    "\n",
    "# Initialize XGBoost Classifier\n",
    "xgb_classifier = xgb.XGBClassifier(use_label_encoder=False, eval_metric=\"logloss\")\n",
    "\n",
    "# Define the parameter grid\n",
    "param_grid = {\n",
    "    \"n_estimators\": [50, 100, 200],   # Number of trees\n",
    "    \"max_depth\": [3, 5, 7],           # Depth of trees\n",
    "    \"learning_rate\": [0.01, 0.1, 0.2], # Learning rate\n",
    "    \"subsample\": [0.8, 1.0],          # Fraction of samples used per tree\n",
    "    \"colsample_bytree\": [0.8, 1.0]    # Fraction of features used per tree\n",
    "}\n",
    "\n",
    "# Setup GridSearchCV\n",
    "grid_search = GridSearchCV(\n",
    "    estimator=xgb_classifier, \n",
    "    param_grid=param_grid, \n",
    "    scoring=\"accuracy\", \n",
    "    cv=5, \n",
    "    n_jobs=-1, \n",
    "    verbose=1\n",
    ")\n",
    "\n",
    "# Fit the model\n",
    "grid_search.fit(X_train, y_train)\n",
    "\n",
    "# Print best parameters and best accuracy\n",
    "print(\"Best Parameters:\", grid_search.best_params_)\n",
    "print(\"Best Accuracy:\", grid_search.best_score_)\n",
    "\n",
    "# Use the best model to make predictions\n",
    "best_model = grid_search.best_estimator_\n",
    "y_pred = best_model.predict(X_test)\n",
    "\n",
    "# Evaluate on test data\n",
    "accuracy = accuracy_score(y_test, y_pred)\n",
    "print(\"Test Accuracy:\", accuracy)\n"
   ]
  },
  {
   "cell_type": "code",
   "execution_count": null,
   "id": "14a19589",
   "metadata": {},
   "outputs": [
    {
     "name": "stdout",
     "output_type": "stream",
     "text": [
      "version:  1.2.2\n"
     ]
    }
   ],
   "source": [
    "import sklearn\n",
    "\n",
    "print(\"version: \", sklearn.__version__)"
   ]
  }
 ],
 "metadata": {
  "kernelspec": {
   "display_name": "aa_tuesday",
   "language": "python",
   "name": "python3"
  },
  "language_info": {
   "codemirror_mode": {
    "name": "ipython",
    "version": 3
   },
   "file_extension": ".py",
   "mimetype": "text/x-python",
   "name": "python",
   "nbconvert_exporter": "python",
   "pygments_lexer": "ipython3",
   "version": "3.9.21"
  },
  "papermill": {
   "default_parameters": {},
   "duration": 49.933279,
   "end_time": "2021-09-20T20:03:41.801824",
   "environment_variables": {},
   "exception": null,
   "input_path": "__notebook__.ipynb",
   "output_path": "__notebook__.ipynb",
   "parameters": {},
   "start_time": "2021-09-20T20:02:51.868545",
   "version": "2.3.3"
  }
 },
 "nbformat": 4,
 "nbformat_minor": 5
}
