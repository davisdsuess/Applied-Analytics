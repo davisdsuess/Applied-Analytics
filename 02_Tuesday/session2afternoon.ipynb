{
 "cells": [
  {
   "cell_type": "markdown",
   "id": "d1a9424f-8f8c-467d-a5d0-8f08ce5c8d6f",
   "metadata": {},
   "source": [
    "#### Task Preprocessing"
   ]
  },
  {
   "cell_type": "markdown",
   "id": "d2f3dca4-0e1f-4e83-a273-00331c96dce8",
   "metadata": {},
   "source": [
    "Prepare the dataset by applying an appropriate normalization method to the variables. <br>\n",
    "Should you normalize the outcome variable? <br>\n",
    "Should you use the same method for all variables or decide for each variable individually?"
   ]
  },
  {
   "cell_type": "code",
   "execution_count": 1,
   "id": "411339e5-90e9-4b96-88cb-74561ddc9465",
   "metadata": {},
   "outputs": [
    {
     "data": {
      "text/html": [
       "<div>\n",
       "<style scoped>\n",
       "    .dataframe tbody tr th:only-of-type {\n",
       "        vertical-align: middle;\n",
       "    }\n",
       "\n",
       "    .dataframe tbody tr th {\n",
       "        vertical-align: top;\n",
       "    }\n",
       "\n",
       "    .dataframe thead th {\n",
       "        text-align: right;\n",
       "    }\n",
       "</style>\n",
       "<table border=\"1\" class=\"dataframe\">\n",
       "  <thead>\n",
       "    <tr style=\"text-align: right;\">\n",
       "      <th></th>\n",
       "      <th>Pregnancies</th>\n",
       "      <th>Glucose</th>\n",
       "      <th>BloodPressure</th>\n",
       "      <th>SkinThickness</th>\n",
       "      <th>Insulin</th>\n",
       "      <th>BMI</th>\n",
       "      <th>DiabetesPedigreeFunction</th>\n",
       "      <th>Age</th>\n",
       "      <th>Outcome</th>\n",
       "    </tr>\n",
       "  </thead>\n",
       "  <tbody>\n",
       "    <tr>\n",
       "      <th>0</th>\n",
       "      <td>6.0</td>\n",
       "      <td>148.0</td>\n",
       "      <td>72.0</td>\n",
       "      <td>35.0</td>\n",
       "      <td>169.0</td>\n",
       "      <td>33.6</td>\n",
       "      <td>0.627</td>\n",
       "      <td>50.0</td>\n",
       "      <td>1.0</td>\n",
       "    </tr>\n",
       "    <tr>\n",
       "      <th>1</th>\n",
       "      <td>1.0</td>\n",
       "      <td>85.0</td>\n",
       "      <td>66.0</td>\n",
       "      <td>29.0</td>\n",
       "      <td>58.6</td>\n",
       "      <td>26.6</td>\n",
       "      <td>0.351</td>\n",
       "      <td>31.0</td>\n",
       "      <td>0.0</td>\n",
       "    </tr>\n",
       "    <tr>\n",
       "      <th>2</th>\n",
       "      <td>8.0</td>\n",
       "      <td>183.0</td>\n",
       "      <td>64.0</td>\n",
       "      <td>25.8</td>\n",
       "      <td>164.6</td>\n",
       "      <td>23.3</td>\n",
       "      <td>0.672</td>\n",
       "      <td>32.0</td>\n",
       "      <td>1.0</td>\n",
       "    </tr>\n",
       "    <tr>\n",
       "      <th>3</th>\n",
       "      <td>1.0</td>\n",
       "      <td>89.0</td>\n",
       "      <td>66.0</td>\n",
       "      <td>23.0</td>\n",
       "      <td>94.0</td>\n",
       "      <td>28.1</td>\n",
       "      <td>0.167</td>\n",
       "      <td>21.0</td>\n",
       "      <td>0.0</td>\n",
       "    </tr>\n",
       "    <tr>\n",
       "      <th>4</th>\n",
       "      <td>5.0</td>\n",
       "      <td>116.0</td>\n",
       "      <td>74.0</td>\n",
       "      <td>20.6</td>\n",
       "      <td>102.8</td>\n",
       "      <td>25.6</td>\n",
       "      <td>0.201</td>\n",
       "      <td>30.0</td>\n",
       "      <td>0.0</td>\n",
       "    </tr>\n",
       "  </tbody>\n",
       "</table>\n",
       "</div>"
      ],
      "text/plain": [
       "   Pregnancies  Glucose  BloodPressure  SkinThickness  Insulin   BMI  \\\n",
       "0          6.0    148.0           72.0           35.0    169.0  33.6   \n",
       "1          1.0     85.0           66.0           29.0     58.6  26.6   \n",
       "2          8.0    183.0           64.0           25.8    164.6  23.3   \n",
       "3          1.0     89.0           66.0           23.0     94.0  28.1   \n",
       "4          5.0    116.0           74.0           20.6    102.8  25.6   \n",
       "\n",
       "   DiabetesPedigreeFunction   Age  Outcome  \n",
       "0                     0.627  50.0      1.0  \n",
       "1                     0.351  31.0      0.0  \n",
       "2                     0.672  32.0      1.0  \n",
       "3                     0.167  21.0      0.0  \n",
       "4                     0.201  30.0      0.0  "
      ]
     },
     "execution_count": 1,
     "metadata": {},
     "output_type": "execute_result"
    }
   ],
   "source": [
    "import pandas as pd\n",
    "df_self = pd.read_pickle(\"../data/df_imputed_clean.pkl\")\n",
    "df_self.head()\n",
    "df1 = df_self.drop(columns=['Mahalanobis_Distance','Multivariate_Outlier','Outlier'])\n",
    "df1.head()"
   ]
  },
  {
   "cell_type": "markdown",
   "id": "2e32afad-6fa1-4e6f-be80-fec014a2985a",
   "metadata": {},
   "source": [
    "#### Task PCA"
   ]
  },
  {
   "cell_type": "markdown",
   "id": "4364e360-ae05-42f3-88aa-aec47811859c",
   "metadata": {},
   "source": [
    "1) Perform PCA on all input variables.\n",
    "2) Use a screeplot and the elbow method to decide how many PCs should be included in further analysis. How much variance is explained by the chosen PCs?\n",
    "3) Interprete the eigenvectors/loadings of the 2 PCs with the highest eigenvalue. Use a visualization method for explanation.\n",
    "4) Split the dataset by \"Outcome\". Perform PCA for both subsets. Are there clearly visible differences in the PCs? What does that mean?"
   ]
  },
  {
   "cell_type": "code",
   "execution_count": null,
   "id": "52131da0-3d10-4625-ba26-458a0e50ff91",
   "metadata": {},
   "outputs": [],
   "source": []
  },
  {
   "cell_type": "markdown",
   "id": "2561d4cc-b1ff-42ad-adf1-ef1be179866e",
   "metadata": {},
   "source": [
    "#### Task K-Means Clustering"
   ]
  },
  {
   "cell_type": "markdown",
   "id": "2589f2e0-4679-4ddb-b45f-843cad55e74e",
   "metadata": {},
   "source": [
    "Perform the following tasks for the original (but normalized) variables and the PCA/dimension-reduced dataset. Compare how the resulst diverge.\n",
    "1) Perform K-Means with k=[1:10] clusters. Calculate Sum of Squared Errors and Silhouette Score for each clustering iteration. Visualize the Goodness of Fit for each k as scree plots. Use the Elbow Method to find the optimal number of clusters. Is it the same for both Goodness of Fit methods?\n",
    "2) Create a brief descriptive overview of the clusters. \n",
    "3) Compare if the clusters align with the outcome."
   ]
  },
  {
   "cell_type": "code",
   "execution_count": null,
   "id": "7a5e3c2c-69c8-4cfc-83c2-f279a7b8aa79",
   "metadata": {},
   "outputs": [],
   "source": []
  },
  {
   "cell_type": "markdown",
   "id": "9e34775a-86bc-4e50-8c05-bb0b41696ce2",
   "metadata": {},
   "source": [
    "#### Task Kohonen Self-Organizing Maps"
   ]
  },
  {
   "cell_type": "markdown",
   "id": "576d6f0c-ec9e-4e8e-a120-211c72db622b",
   "metadata": {},
   "source": [
    "Perform the following tasks for the original (but normalized) variables.\n",
    "1) Train a SOM on the input variables.\n",
    "2) Visualize the SOM using U-matrix and highlighting the neighbourhood distance. Calculate the Quantization Error (average Euclidean of each data point and its BMU).\n",
    "3) Vary the SOM parameters. How do changes in grid size,  learning rate, sigma (spread of the neighbourhood function) and topology affect the U-matrix/Quantization Error? Which parameters do you see as the best fit for the data?\n",
    "4) Based on your preferred parameters, Label the data points by the cluster assignment of their BMU.\n",
    "5) Compare if the clusters align with the outcome.\n",
    "6) Compare if the clusters align with the two versions of clusters (original data & dimensionality-reduced data) created by K-Means Clustering."
   ]
  },
  {
   "cell_type": "code",
   "execution_count": null,
   "id": "a1cf0b32-9157-4dbd-a2a6-e50f12f74dbf",
   "metadata": {},
   "outputs": [],
   "source": []
  }
 ],
 "metadata": {
  "kernelspec": {
   "display_name": "aa_tuesday",
   "language": "python",
   "name": "python3"
  },
  "language_info": {
   "codemirror_mode": {
    "name": "ipython",
    "version": 3
   },
   "file_extension": ".py",
   "mimetype": "text/x-python",
   "name": "python",
   "nbconvert_exporter": "python",
   "pygments_lexer": "ipython3",
   "version": "3.9.21"
  }
 },
 "nbformat": 4,
 "nbformat_minor": 5
}
