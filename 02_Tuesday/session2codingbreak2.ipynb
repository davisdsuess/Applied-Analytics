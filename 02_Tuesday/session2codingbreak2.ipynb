{
 "cells": [
  {
   "cell_type": "markdown",
   "id": "d2f3dca4-0e1f-4e83-a273-00331c96dce8",
   "metadata": {},
   "source": [
    "Load all packages you need."
   ]
  },
  {
   "cell_type": "code",
   "execution_count": null,
   "id": "1051e413-cf81-4d1f-b78e-7508f914dccc",
   "metadata": {},
   "outputs": [],
   "source": []
  },
  {
   "cell_type": "markdown",
   "id": "4bbe9055-8868-4826-9d72-29ccaeb83e19",
   "metadata": {},
   "source": [
    "Read the dataset that you prepared yesterday afternoon (without outlier and missing data). "
   ]
  },
  {
   "cell_type": "code",
   "execution_count": null,
   "id": "e5450820-7e0f-4617-965d-c251c0354599",
   "metadata": {},
   "outputs": [],
   "source": []
  },
  {
   "cell_type": "markdown",
   "id": "e4b66f3e-c534-4437-a938-e635a76e4ec8",
   "metadata": {},
   "source": [
    "Create a scatterplot for the variables \"Age\" and \"Pregnancies\"."
   ]
  },
  {
   "cell_type": "code",
   "execution_count": null,
   "id": "3d8a4a0b-deca-41ac-bf21-a54ee38ddc13",
   "metadata": {},
   "outputs": [],
   "source": []
  },
  {
   "cell_type": "markdown",
   "id": "dbfac0a0-7b47-4c3c-b336-ca29c6b4d23f",
   "metadata": {},
   "source": [
    "Let's see if we can find any useful clusters in this data. <br>\n",
    "Clustering algorithms are affected by variance heterogenity between the variables (variables with smaller variance have larger influence).<br>\n",
    "Inspect the histograms of both variables and apply an appropriate normalization method.<br> "
   ]
  },
  {
   "cell_type": "code",
   "execution_count": null,
   "id": "793a765f-88cb-4512-ad5b-cba46718451f",
   "metadata": {},
   "outputs": [],
   "source": []
  },
  {
   "cell_type": "markdown",
   "id": "afe623a9-1e08-45d3-9ec7-c5e012132897",
   "metadata": {},
   "source": [
    "Perform the K-Means clustering algorithm with k = [2,3,4,5] clusters. Use the elbow method to determine the optimal number of clusters."
   ]
  },
  {
   "cell_type": "code",
   "execution_count": null,
   "id": "7dc06623-0361-4ad9-ba82-d79cfe951268",
   "metadata": {},
   "outputs": [],
   "source": []
  },
  {
   "cell_type": "markdown",
   "id": "808a30c6-e9c3-4f24-b5c1-1ae6845d4f10",
   "metadata": {},
   "source": [
    "Plot the optimal number of clusters on your scatterplot."
   ]
  },
  {
   "cell_type": "code",
   "execution_count": null,
   "id": "f0c9c455-4877-4b8c-8610-0449e6544dc1",
   "metadata": {},
   "outputs": [],
   "source": []
  }
 ],
 "metadata": {
  "kernelspec": {
   "display_name": "Python 3",
   "language": "python",
   "name": "python3"
  },
  "language_info": {
   "codemirror_mode": {
    "name": "ipython",
    "version": 3
   },
   "file_extension": ".py",
   "mimetype": "text/x-python",
   "name": "python",
   "nbconvert_exporter": "python",
   "pygments_lexer": "ipython3",
   "version": "3.12.2"
  }
 },
 "nbformat": 4,
 "nbformat_minor": 5
}
